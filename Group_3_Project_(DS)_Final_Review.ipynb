{
  "nbformat": 4,
  "nbformat_minor": 0,
  "metadata": {
    "colab": {
      "name": "Group_3_Project_(DS)_Final_Review.ipynb",
      "provenance": [],
      "collapsed_sections": [],
      "include_colab_link": true
    },
    "kernelspec": {
      "name": "python3",
      "display_name": "Python 3"
    },
    "language_info": {
      "name": "python"
    }
  },
  "cells": [
    {
      "cell_type": "markdown",
      "metadata": {
        "id": "view-in-github",
        "colab_type": "text"
      },
      "source": [
        "<a href=\"https://colab.research.google.com/github/abhiskp/Car-price-Perdiction---DS-casestudy/blob/main/Group_3_Project_(DS)_Final_Review.ipynb\" target=\"_parent\"><img src=\"https://colab.research.google.com/assets/colab-badge.svg\" alt=\"Open In Colab\"/></a>"
      ]
    },
    {
      "cell_type": "markdown",
      "source": [
        "# **Car Price Prediction Group Project (Group 3)**\n",
        "\n",
        "**Members:**\n",
        "*Abhijith Shaji     (CB.EN.U4CSE19102)*,\n",
        "*Deepthi        (CB.EN.U4CSE19108)*,\n",
        "*Hrishikesh Menon  (CB.EN.U4CSE19117)*,\n",
        "*Shrikarthik              (CB.EN.U4CSE19146)*"
      ],
      "metadata": {
        "id": "E_W9D5M7_c9S"
      }
    },
    {
      "cell_type": "code",
      "metadata": {
        "id": "1a-3PuWwtRVn"
      },
      "source": [
        "import pandas as pd\n",
        "import seaborn as sns\n",
        "import matplotlib.pyplot as plt\n",
        "from scipy.stats import pearsonr\n",
        "import pandas as pd\n",
        "import numpy as np\n",
        "from sklearn import preprocessing\n",
        "from sklearn.model_selection import train_test_split\n",
        "from sklearn import metrics\n",
        "from sklearn.metrics import classification_report,confusion_matrix\n",
        "from numpy import percentile \n",
        "from sklearn.feature_selection import VarianceThreshold\n",
        "import scipy.stats as st"
      ],
      "execution_count": null,
      "outputs": []
    },
    {
      "cell_type": "markdown",
      "metadata": {
        "id": "CemvTQfjfZWZ"
      },
      "source": [
        "# **Preprocessing & EDA**"
      ]
    },
    {
      "cell_type": "code",
      "metadata": {
        "id": "Ng2xT-tDtXwR"
      },
      "source": [
        "df = pd.read_csv('https://raw.githubusercontent.com/abhiskp/Data-Science/main/CarPrice_Assignment(1).csv')"
      ],
      "execution_count": null,
      "outputs": []
    },
    {
      "cell_type": "code",
      "metadata": {
        "id": "lZvIe3s1tmKz"
      },
      "source": [
        "df.set_index(['car_ID'],inplace=True)"
      ],
      "execution_count": null,
      "outputs": []
    },
    {
      "cell_type": "code",
      "metadata": {
        "id": "3fjzGQdCtqVh",
        "colab": {
          "base_uri": "https://localhost:8080/"
        },
        "outputId": "c7b25a0c-e979-4b59-b867-d4b008322f9a"
      },
      "source": [
        "df.shape"
      ],
      "execution_count": null,
      "outputs": [
        {
          "output_type": "execute_result",
          "data": {
            "text/plain": [
              "(205, 25)"
            ]
          },
          "metadata": {},
          "execution_count": 4
        }
      ]
    },
    {
      "cell_type": "code",
      "metadata": {
        "id": "2goVoF10tsvc",
        "colab": {
          "base_uri": "https://localhost:8080/",
          "height": 310
        },
        "outputId": "4dfe30e3-237e-4103-f57d-fc5fa52e171f"
      },
      "source": [
        "CompanyName = df['CarName'].apply(lambda x : x.split(' ')[0])\n",
        "df.insert(1,\"CompanyName\",CompanyName)\n",
        "df.head()"
      ],
      "execution_count": null,
      "outputs": [
        {
          "output_type": "execute_result",
          "data": {
            "text/html": [
              "<div>\n",
              "<style scoped>\n",
              "    .dataframe tbody tr th:only-of-type {\n",
              "        vertical-align: middle;\n",
              "    }\n",
              "\n",
              "    .dataframe tbody tr th {\n",
              "        vertical-align: top;\n",
              "    }\n",
              "\n",
              "    .dataframe thead th {\n",
              "        text-align: right;\n",
              "    }\n",
              "</style>\n",
              "<table border=\"1\" class=\"dataframe\">\n",
              "  <thead>\n",
              "    <tr style=\"text-align: right;\">\n",
              "      <th></th>\n",
              "      <th>symboling</th>\n",
              "      <th>CompanyName</th>\n",
              "      <th>CarName</th>\n",
              "      <th>fueltype</th>\n",
              "      <th>aspiration</th>\n",
              "      <th>doornumber</th>\n",
              "      <th>carbody</th>\n",
              "      <th>drivewheel</th>\n",
              "      <th>enginelocation</th>\n",
              "      <th>wheelbase</th>\n",
              "      <th>carlength</th>\n",
              "      <th>carwidth</th>\n",
              "      <th>carheight</th>\n",
              "      <th>curbweight</th>\n",
              "      <th>enginetype</th>\n",
              "      <th>cylindernumber</th>\n",
              "      <th>enginesize</th>\n",
              "      <th>fuelsystem</th>\n",
              "      <th>boreratio</th>\n",
              "      <th>stroke</th>\n",
              "      <th>compressionratio</th>\n",
              "      <th>horsepower</th>\n",
              "      <th>peakrpm</th>\n",
              "      <th>citympg</th>\n",
              "      <th>highwaympg</th>\n",
              "      <th>price</th>\n",
              "    </tr>\n",
              "    <tr>\n",
              "      <th>car_ID</th>\n",
              "      <th></th>\n",
              "      <th></th>\n",
              "      <th></th>\n",
              "      <th></th>\n",
              "      <th></th>\n",
              "      <th></th>\n",
              "      <th></th>\n",
              "      <th></th>\n",
              "      <th></th>\n",
              "      <th></th>\n",
              "      <th></th>\n",
              "      <th></th>\n",
              "      <th></th>\n",
              "      <th></th>\n",
              "      <th></th>\n",
              "      <th></th>\n",
              "      <th></th>\n",
              "      <th></th>\n",
              "      <th></th>\n",
              "      <th></th>\n",
              "      <th></th>\n",
              "      <th></th>\n",
              "      <th></th>\n",
              "      <th></th>\n",
              "      <th></th>\n",
              "      <th></th>\n",
              "    </tr>\n",
              "  </thead>\n",
              "  <tbody>\n",
              "    <tr>\n",
              "      <th>1</th>\n",
              "      <td>3</td>\n",
              "      <td>alfa-romero</td>\n",
              "      <td>alfa-romero giulia</td>\n",
              "      <td>gas</td>\n",
              "      <td>std</td>\n",
              "      <td>two</td>\n",
              "      <td>convertible</td>\n",
              "      <td>rwd</td>\n",
              "      <td>front</td>\n",
              "      <td>88.6</td>\n",
              "      <td>168.8</td>\n",
              "      <td>64.1</td>\n",
              "      <td>48.8</td>\n",
              "      <td>2548</td>\n",
              "      <td>dohc</td>\n",
              "      <td>four</td>\n",
              "      <td>130</td>\n",
              "      <td>mpfi</td>\n",
              "      <td>3.47</td>\n",
              "      <td>2.68</td>\n",
              "      <td>9.0</td>\n",
              "      <td>111</td>\n",
              "      <td>5000</td>\n",
              "      <td>21</td>\n",
              "      <td>27</td>\n",
              "      <td>13495.0</td>\n",
              "    </tr>\n",
              "    <tr>\n",
              "      <th>2</th>\n",
              "      <td>3</td>\n",
              "      <td>alfa-romero</td>\n",
              "      <td>alfa-romero stelvio</td>\n",
              "      <td>gas</td>\n",
              "      <td>std</td>\n",
              "      <td>two</td>\n",
              "      <td>convertible</td>\n",
              "      <td>rwd</td>\n",
              "      <td>front</td>\n",
              "      <td>88.6</td>\n",
              "      <td>168.8</td>\n",
              "      <td>64.1</td>\n",
              "      <td>48.8</td>\n",
              "      <td>2548</td>\n",
              "      <td>dohc</td>\n",
              "      <td>four</td>\n",
              "      <td>130</td>\n",
              "      <td>mpfi</td>\n",
              "      <td>3.47</td>\n",
              "      <td>2.68</td>\n",
              "      <td>9.0</td>\n",
              "      <td>111</td>\n",
              "      <td>5000</td>\n",
              "      <td>21</td>\n",
              "      <td>27</td>\n",
              "      <td>16500.0</td>\n",
              "    </tr>\n",
              "    <tr>\n",
              "      <th>3</th>\n",
              "      <td>1</td>\n",
              "      <td>alfa-romero</td>\n",
              "      <td>alfa-romero Quadrifoglio</td>\n",
              "      <td>gas</td>\n",
              "      <td>std</td>\n",
              "      <td>two</td>\n",
              "      <td>hatchback</td>\n",
              "      <td>rwd</td>\n",
              "      <td>front</td>\n",
              "      <td>94.5</td>\n",
              "      <td>171.2</td>\n",
              "      <td>65.5</td>\n",
              "      <td>52.4</td>\n",
              "      <td>2823</td>\n",
              "      <td>ohcv</td>\n",
              "      <td>six</td>\n",
              "      <td>152</td>\n",
              "      <td>mpfi</td>\n",
              "      <td>2.68</td>\n",
              "      <td>3.47</td>\n",
              "      <td>9.0</td>\n",
              "      <td>154</td>\n",
              "      <td>5000</td>\n",
              "      <td>19</td>\n",
              "      <td>26</td>\n",
              "      <td>16500.0</td>\n",
              "    </tr>\n",
              "    <tr>\n",
              "      <th>4</th>\n",
              "      <td>2</td>\n",
              "      <td>audi</td>\n",
              "      <td>audi 100 ls</td>\n",
              "      <td>gas</td>\n",
              "      <td>std</td>\n",
              "      <td>four</td>\n",
              "      <td>sedan</td>\n",
              "      <td>fwd</td>\n",
              "      <td>front</td>\n",
              "      <td>99.8</td>\n",
              "      <td>176.6</td>\n",
              "      <td>66.2</td>\n",
              "      <td>54.3</td>\n",
              "      <td>2337</td>\n",
              "      <td>ohc</td>\n",
              "      <td>four</td>\n",
              "      <td>109</td>\n",
              "      <td>mpfi</td>\n",
              "      <td>3.19</td>\n",
              "      <td>3.40</td>\n",
              "      <td>10.0</td>\n",
              "      <td>102</td>\n",
              "      <td>5500</td>\n",
              "      <td>24</td>\n",
              "      <td>30</td>\n",
              "      <td>13950.0</td>\n",
              "    </tr>\n",
              "    <tr>\n",
              "      <th>5</th>\n",
              "      <td>2</td>\n",
              "      <td>audi</td>\n",
              "      <td>audi 100ls</td>\n",
              "      <td>gas</td>\n",
              "      <td>std</td>\n",
              "      <td>four</td>\n",
              "      <td>sedan</td>\n",
              "      <td>4wd</td>\n",
              "      <td>front</td>\n",
              "      <td>99.4</td>\n",
              "      <td>176.6</td>\n",
              "      <td>66.4</td>\n",
              "      <td>54.3</td>\n",
              "      <td>2824</td>\n",
              "      <td>ohc</td>\n",
              "      <td>five</td>\n",
              "      <td>136</td>\n",
              "      <td>mpfi</td>\n",
              "      <td>3.19</td>\n",
              "      <td>3.40</td>\n",
              "      <td>8.0</td>\n",
              "      <td>115</td>\n",
              "      <td>5500</td>\n",
              "      <td>18</td>\n",
              "      <td>22</td>\n",
              "      <td>17450.0</td>\n",
              "    </tr>\n",
              "  </tbody>\n",
              "</table>\n",
              "</div>"
            ],
            "text/plain": [
              "        symboling  CompanyName  ... highwaympg    price\n",
              "car_ID                          ...                    \n",
              "1               3  alfa-romero  ...         27  13495.0\n",
              "2               3  alfa-romero  ...         27  16500.0\n",
              "3               1  alfa-romero  ...         26  16500.0\n",
              "4               2         audi  ...         30  13950.0\n",
              "5               2         audi  ...         22  17450.0\n",
              "\n",
              "[5 rows x 26 columns]"
            ]
          },
          "metadata": {},
          "execution_count": 5
        }
      ]
    },
    {
      "cell_type": "code",
      "metadata": {
        "id": "JD63O_AetxxD",
        "colab": {
          "base_uri": "https://localhost:8080/",
          "height": 258
        },
        "outputId": "03c53d98-ea9a-440d-f552-4f306f379811"
      },
      "source": [
        "carname = df['CarName'].apply(lambda x : x.split(' ')[-1])\n",
        "df.drop(['CarName'],axis=1,inplace=True)\n",
        "CarName = carname\n",
        "df.insert(2,\"CarName\",CarName)\n",
        "df.head()"
      ],
      "execution_count": null,
      "outputs": [
        {
          "output_type": "execute_result",
          "data": {
            "text/html": [
              "<div>\n",
              "<style scoped>\n",
              "    .dataframe tbody tr th:only-of-type {\n",
              "        vertical-align: middle;\n",
              "    }\n",
              "\n",
              "    .dataframe tbody tr th {\n",
              "        vertical-align: top;\n",
              "    }\n",
              "\n",
              "    .dataframe thead th {\n",
              "        text-align: right;\n",
              "    }\n",
              "</style>\n",
              "<table border=\"1\" class=\"dataframe\">\n",
              "  <thead>\n",
              "    <tr style=\"text-align: right;\">\n",
              "      <th></th>\n",
              "      <th>symboling</th>\n",
              "      <th>CompanyName</th>\n",
              "      <th>CarName</th>\n",
              "      <th>fueltype</th>\n",
              "      <th>aspiration</th>\n",
              "      <th>doornumber</th>\n",
              "      <th>carbody</th>\n",
              "      <th>drivewheel</th>\n",
              "      <th>enginelocation</th>\n",
              "      <th>wheelbase</th>\n",
              "      <th>carlength</th>\n",
              "      <th>carwidth</th>\n",
              "      <th>carheight</th>\n",
              "      <th>curbweight</th>\n",
              "      <th>enginetype</th>\n",
              "      <th>cylindernumber</th>\n",
              "      <th>enginesize</th>\n",
              "      <th>fuelsystem</th>\n",
              "      <th>boreratio</th>\n",
              "      <th>stroke</th>\n",
              "      <th>compressionratio</th>\n",
              "      <th>horsepower</th>\n",
              "      <th>peakrpm</th>\n",
              "      <th>citympg</th>\n",
              "      <th>highwaympg</th>\n",
              "      <th>price</th>\n",
              "    </tr>\n",
              "    <tr>\n",
              "      <th>car_ID</th>\n",
              "      <th></th>\n",
              "      <th></th>\n",
              "      <th></th>\n",
              "      <th></th>\n",
              "      <th></th>\n",
              "      <th></th>\n",
              "      <th></th>\n",
              "      <th></th>\n",
              "      <th></th>\n",
              "      <th></th>\n",
              "      <th></th>\n",
              "      <th></th>\n",
              "      <th></th>\n",
              "      <th></th>\n",
              "      <th></th>\n",
              "      <th></th>\n",
              "      <th></th>\n",
              "      <th></th>\n",
              "      <th></th>\n",
              "      <th></th>\n",
              "      <th></th>\n",
              "      <th></th>\n",
              "      <th></th>\n",
              "      <th></th>\n",
              "      <th></th>\n",
              "      <th></th>\n",
              "    </tr>\n",
              "  </thead>\n",
              "  <tbody>\n",
              "    <tr>\n",
              "      <th>1</th>\n",
              "      <td>3</td>\n",
              "      <td>alfa-romero</td>\n",
              "      <td>giulia</td>\n",
              "      <td>gas</td>\n",
              "      <td>std</td>\n",
              "      <td>two</td>\n",
              "      <td>convertible</td>\n",
              "      <td>rwd</td>\n",
              "      <td>front</td>\n",
              "      <td>88.6</td>\n",
              "      <td>168.8</td>\n",
              "      <td>64.1</td>\n",
              "      <td>48.8</td>\n",
              "      <td>2548</td>\n",
              "      <td>dohc</td>\n",
              "      <td>four</td>\n",
              "      <td>130</td>\n",
              "      <td>mpfi</td>\n",
              "      <td>3.47</td>\n",
              "      <td>2.68</td>\n",
              "      <td>9.0</td>\n",
              "      <td>111</td>\n",
              "      <td>5000</td>\n",
              "      <td>21</td>\n",
              "      <td>27</td>\n",
              "      <td>13495.0</td>\n",
              "    </tr>\n",
              "    <tr>\n",
              "      <th>2</th>\n",
              "      <td>3</td>\n",
              "      <td>alfa-romero</td>\n",
              "      <td>stelvio</td>\n",
              "      <td>gas</td>\n",
              "      <td>std</td>\n",
              "      <td>two</td>\n",
              "      <td>convertible</td>\n",
              "      <td>rwd</td>\n",
              "      <td>front</td>\n",
              "      <td>88.6</td>\n",
              "      <td>168.8</td>\n",
              "      <td>64.1</td>\n",
              "      <td>48.8</td>\n",
              "      <td>2548</td>\n",
              "      <td>dohc</td>\n",
              "      <td>four</td>\n",
              "      <td>130</td>\n",
              "      <td>mpfi</td>\n",
              "      <td>3.47</td>\n",
              "      <td>2.68</td>\n",
              "      <td>9.0</td>\n",
              "      <td>111</td>\n",
              "      <td>5000</td>\n",
              "      <td>21</td>\n",
              "      <td>27</td>\n",
              "      <td>16500.0</td>\n",
              "    </tr>\n",
              "    <tr>\n",
              "      <th>3</th>\n",
              "      <td>1</td>\n",
              "      <td>alfa-romero</td>\n",
              "      <td>Quadrifoglio</td>\n",
              "      <td>gas</td>\n",
              "      <td>std</td>\n",
              "      <td>two</td>\n",
              "      <td>hatchback</td>\n",
              "      <td>rwd</td>\n",
              "      <td>front</td>\n",
              "      <td>94.5</td>\n",
              "      <td>171.2</td>\n",
              "      <td>65.5</td>\n",
              "      <td>52.4</td>\n",
              "      <td>2823</td>\n",
              "      <td>ohcv</td>\n",
              "      <td>six</td>\n",
              "      <td>152</td>\n",
              "      <td>mpfi</td>\n",
              "      <td>2.68</td>\n",
              "      <td>3.47</td>\n",
              "      <td>9.0</td>\n",
              "      <td>154</td>\n",
              "      <td>5000</td>\n",
              "      <td>19</td>\n",
              "      <td>26</td>\n",
              "      <td>16500.0</td>\n",
              "    </tr>\n",
              "    <tr>\n",
              "      <th>4</th>\n",
              "      <td>2</td>\n",
              "      <td>audi</td>\n",
              "      <td>ls</td>\n",
              "      <td>gas</td>\n",
              "      <td>std</td>\n",
              "      <td>four</td>\n",
              "      <td>sedan</td>\n",
              "      <td>fwd</td>\n",
              "      <td>front</td>\n",
              "      <td>99.8</td>\n",
              "      <td>176.6</td>\n",
              "      <td>66.2</td>\n",
              "      <td>54.3</td>\n",
              "      <td>2337</td>\n",
              "      <td>ohc</td>\n",
              "      <td>four</td>\n",
              "      <td>109</td>\n",
              "      <td>mpfi</td>\n",
              "      <td>3.19</td>\n",
              "      <td>3.40</td>\n",
              "      <td>10.0</td>\n",
              "      <td>102</td>\n",
              "      <td>5500</td>\n",
              "      <td>24</td>\n",
              "      <td>30</td>\n",
              "      <td>13950.0</td>\n",
              "    </tr>\n",
              "    <tr>\n",
              "      <th>5</th>\n",
              "      <td>2</td>\n",
              "      <td>audi</td>\n",
              "      <td>100ls</td>\n",
              "      <td>gas</td>\n",
              "      <td>std</td>\n",
              "      <td>four</td>\n",
              "      <td>sedan</td>\n",
              "      <td>4wd</td>\n",
              "      <td>front</td>\n",
              "      <td>99.4</td>\n",
              "      <td>176.6</td>\n",
              "      <td>66.4</td>\n",
              "      <td>54.3</td>\n",
              "      <td>2824</td>\n",
              "      <td>ohc</td>\n",
              "      <td>five</td>\n",
              "      <td>136</td>\n",
              "      <td>mpfi</td>\n",
              "      <td>3.19</td>\n",
              "      <td>3.40</td>\n",
              "      <td>8.0</td>\n",
              "      <td>115</td>\n",
              "      <td>5500</td>\n",
              "      <td>18</td>\n",
              "      <td>22</td>\n",
              "      <td>17450.0</td>\n",
              "    </tr>\n",
              "  </tbody>\n",
              "</table>\n",
              "</div>"
            ],
            "text/plain": [
              "        symboling  CompanyName       CarName  ... citympg highwaympg    price\n",
              "car_ID                                        ...                            \n",
              "1               3  alfa-romero        giulia  ...      21         27  13495.0\n",
              "2               3  alfa-romero       stelvio  ...      21         27  16500.0\n",
              "3               1  alfa-romero  Quadrifoglio  ...      19         26  16500.0\n",
              "4               2         audi            ls  ...      24         30  13950.0\n",
              "5               2         audi         100ls  ...      18         22  17450.0\n",
              "\n",
              "[5 rows x 26 columns]"
            ]
          },
          "metadata": {},
          "execution_count": 6
        }
      ]
    },
    {
      "cell_type": "code",
      "metadata": {
        "id": "BlX1TOS_t3mJ"
      },
      "source": [
        "df['symboling'].fillna(0,inplace=True)"
      ],
      "execution_count": null,
      "outputs": []
    },
    {
      "cell_type": "code",
      "metadata": {
        "id": "8YTfCNS6t9Ln",
        "colab": {
          "base_uri": "https://localhost:8080/"
        },
        "outputId": "3906aaea-8eed-4f87-d36f-47fbad6c82f4"
      },
      "source": [
        "df.isnull().sum()"
      ],
      "execution_count": null,
      "outputs": [
        {
          "output_type": "execute_result",
          "data": {
            "text/plain": [
              "symboling           0\n",
              "CompanyName         0\n",
              "CarName             0\n",
              "fueltype            0\n",
              "aspiration          0\n",
              "doornumber          0\n",
              "carbody             0\n",
              "drivewheel          0\n",
              "enginelocation      0\n",
              "wheelbase           0\n",
              "carlength           0\n",
              "carwidth            0\n",
              "carheight           0\n",
              "curbweight          0\n",
              "enginetype          0\n",
              "cylindernumber      0\n",
              "enginesize          0\n",
              "fuelsystem          0\n",
              "boreratio           0\n",
              "stroke              0\n",
              "compressionratio    0\n",
              "horsepower          0\n",
              "peakrpm             0\n",
              "citympg             0\n",
              "highwaympg          0\n",
              "price               0\n",
              "dtype: int64"
            ]
          },
          "metadata": {},
          "execution_count": 8
        }
      ]
    },
    {
      "cell_type": "code",
      "metadata": {
        "id": "Aq69kBL9t_h0"
      },
      "source": [
        "df['CompanyName'] = df['CompanyName'].replace({'maxda':'mazda','Nissan':'nissan','porcshce':'porsche','toyouta':'toyota','vokswagen':'volkswagen'})"
      ],
      "execution_count": null,
      "outputs": []
    },
    {
      "cell_type": "code",
      "metadata": {
        "id": "XSuiN4c4uDMz",
        "colab": {
          "base_uri": "https://localhost:8080/",
          "height": 258
        },
        "outputId": "5c69bf70-bbcc-41ee-92a3-4620aef7deb8"
      },
      "source": [
        "df.head()"
      ],
      "execution_count": null,
      "outputs": [
        {
          "output_type": "execute_result",
          "data": {
            "text/html": [
              "<div>\n",
              "<style scoped>\n",
              "    .dataframe tbody tr th:only-of-type {\n",
              "        vertical-align: middle;\n",
              "    }\n",
              "\n",
              "    .dataframe tbody tr th {\n",
              "        vertical-align: top;\n",
              "    }\n",
              "\n",
              "    .dataframe thead th {\n",
              "        text-align: right;\n",
              "    }\n",
              "</style>\n",
              "<table border=\"1\" class=\"dataframe\">\n",
              "  <thead>\n",
              "    <tr style=\"text-align: right;\">\n",
              "      <th></th>\n",
              "      <th>symboling</th>\n",
              "      <th>CompanyName</th>\n",
              "      <th>CarName</th>\n",
              "      <th>fueltype</th>\n",
              "      <th>aspiration</th>\n",
              "      <th>doornumber</th>\n",
              "      <th>carbody</th>\n",
              "      <th>drivewheel</th>\n",
              "      <th>enginelocation</th>\n",
              "      <th>wheelbase</th>\n",
              "      <th>carlength</th>\n",
              "      <th>carwidth</th>\n",
              "      <th>carheight</th>\n",
              "      <th>curbweight</th>\n",
              "      <th>enginetype</th>\n",
              "      <th>cylindernumber</th>\n",
              "      <th>enginesize</th>\n",
              "      <th>fuelsystem</th>\n",
              "      <th>boreratio</th>\n",
              "      <th>stroke</th>\n",
              "      <th>compressionratio</th>\n",
              "      <th>horsepower</th>\n",
              "      <th>peakrpm</th>\n",
              "      <th>citympg</th>\n",
              "      <th>highwaympg</th>\n",
              "      <th>price</th>\n",
              "    </tr>\n",
              "    <tr>\n",
              "      <th>car_ID</th>\n",
              "      <th></th>\n",
              "      <th></th>\n",
              "      <th></th>\n",
              "      <th></th>\n",
              "      <th></th>\n",
              "      <th></th>\n",
              "      <th></th>\n",
              "      <th></th>\n",
              "      <th></th>\n",
              "      <th></th>\n",
              "      <th></th>\n",
              "      <th></th>\n",
              "      <th></th>\n",
              "      <th></th>\n",
              "      <th></th>\n",
              "      <th></th>\n",
              "      <th></th>\n",
              "      <th></th>\n",
              "      <th></th>\n",
              "      <th></th>\n",
              "      <th></th>\n",
              "      <th></th>\n",
              "      <th></th>\n",
              "      <th></th>\n",
              "      <th></th>\n",
              "      <th></th>\n",
              "    </tr>\n",
              "  </thead>\n",
              "  <tbody>\n",
              "    <tr>\n",
              "      <th>1</th>\n",
              "      <td>3</td>\n",
              "      <td>alfa-romero</td>\n",
              "      <td>giulia</td>\n",
              "      <td>gas</td>\n",
              "      <td>std</td>\n",
              "      <td>two</td>\n",
              "      <td>convertible</td>\n",
              "      <td>rwd</td>\n",
              "      <td>front</td>\n",
              "      <td>88.6</td>\n",
              "      <td>168.8</td>\n",
              "      <td>64.1</td>\n",
              "      <td>48.8</td>\n",
              "      <td>2548</td>\n",
              "      <td>dohc</td>\n",
              "      <td>four</td>\n",
              "      <td>130</td>\n",
              "      <td>mpfi</td>\n",
              "      <td>3.47</td>\n",
              "      <td>2.68</td>\n",
              "      <td>9.0</td>\n",
              "      <td>111</td>\n",
              "      <td>5000</td>\n",
              "      <td>21</td>\n",
              "      <td>27</td>\n",
              "      <td>13495.0</td>\n",
              "    </tr>\n",
              "    <tr>\n",
              "      <th>2</th>\n",
              "      <td>3</td>\n",
              "      <td>alfa-romero</td>\n",
              "      <td>stelvio</td>\n",
              "      <td>gas</td>\n",
              "      <td>std</td>\n",
              "      <td>two</td>\n",
              "      <td>convertible</td>\n",
              "      <td>rwd</td>\n",
              "      <td>front</td>\n",
              "      <td>88.6</td>\n",
              "      <td>168.8</td>\n",
              "      <td>64.1</td>\n",
              "      <td>48.8</td>\n",
              "      <td>2548</td>\n",
              "      <td>dohc</td>\n",
              "      <td>four</td>\n",
              "      <td>130</td>\n",
              "      <td>mpfi</td>\n",
              "      <td>3.47</td>\n",
              "      <td>2.68</td>\n",
              "      <td>9.0</td>\n",
              "      <td>111</td>\n",
              "      <td>5000</td>\n",
              "      <td>21</td>\n",
              "      <td>27</td>\n",
              "      <td>16500.0</td>\n",
              "    </tr>\n",
              "    <tr>\n",
              "      <th>3</th>\n",
              "      <td>1</td>\n",
              "      <td>alfa-romero</td>\n",
              "      <td>Quadrifoglio</td>\n",
              "      <td>gas</td>\n",
              "      <td>std</td>\n",
              "      <td>two</td>\n",
              "      <td>hatchback</td>\n",
              "      <td>rwd</td>\n",
              "      <td>front</td>\n",
              "      <td>94.5</td>\n",
              "      <td>171.2</td>\n",
              "      <td>65.5</td>\n",
              "      <td>52.4</td>\n",
              "      <td>2823</td>\n",
              "      <td>ohcv</td>\n",
              "      <td>six</td>\n",
              "      <td>152</td>\n",
              "      <td>mpfi</td>\n",
              "      <td>2.68</td>\n",
              "      <td>3.47</td>\n",
              "      <td>9.0</td>\n",
              "      <td>154</td>\n",
              "      <td>5000</td>\n",
              "      <td>19</td>\n",
              "      <td>26</td>\n",
              "      <td>16500.0</td>\n",
              "    </tr>\n",
              "    <tr>\n",
              "      <th>4</th>\n",
              "      <td>2</td>\n",
              "      <td>audi</td>\n",
              "      <td>ls</td>\n",
              "      <td>gas</td>\n",
              "      <td>std</td>\n",
              "      <td>four</td>\n",
              "      <td>sedan</td>\n",
              "      <td>fwd</td>\n",
              "      <td>front</td>\n",
              "      <td>99.8</td>\n",
              "      <td>176.6</td>\n",
              "      <td>66.2</td>\n",
              "      <td>54.3</td>\n",
              "      <td>2337</td>\n",
              "      <td>ohc</td>\n",
              "      <td>four</td>\n",
              "      <td>109</td>\n",
              "      <td>mpfi</td>\n",
              "      <td>3.19</td>\n",
              "      <td>3.40</td>\n",
              "      <td>10.0</td>\n",
              "      <td>102</td>\n",
              "      <td>5500</td>\n",
              "      <td>24</td>\n",
              "      <td>30</td>\n",
              "      <td>13950.0</td>\n",
              "    </tr>\n",
              "    <tr>\n",
              "      <th>5</th>\n",
              "      <td>2</td>\n",
              "      <td>audi</td>\n",
              "      <td>100ls</td>\n",
              "      <td>gas</td>\n",
              "      <td>std</td>\n",
              "      <td>four</td>\n",
              "      <td>sedan</td>\n",
              "      <td>4wd</td>\n",
              "      <td>front</td>\n",
              "      <td>99.4</td>\n",
              "      <td>176.6</td>\n",
              "      <td>66.4</td>\n",
              "      <td>54.3</td>\n",
              "      <td>2824</td>\n",
              "      <td>ohc</td>\n",
              "      <td>five</td>\n",
              "      <td>136</td>\n",
              "      <td>mpfi</td>\n",
              "      <td>3.19</td>\n",
              "      <td>3.40</td>\n",
              "      <td>8.0</td>\n",
              "      <td>115</td>\n",
              "      <td>5500</td>\n",
              "      <td>18</td>\n",
              "      <td>22</td>\n",
              "      <td>17450.0</td>\n",
              "    </tr>\n",
              "  </tbody>\n",
              "</table>\n",
              "</div>"
            ],
            "text/plain": [
              "        symboling  CompanyName       CarName  ... citympg highwaympg    price\n",
              "car_ID                                        ...                            \n",
              "1               3  alfa-romero        giulia  ...      21         27  13495.0\n",
              "2               3  alfa-romero       stelvio  ...      21         27  16500.0\n",
              "3               1  alfa-romero  Quadrifoglio  ...      19         26  16500.0\n",
              "4               2         audi            ls  ...      24         30  13950.0\n",
              "5               2         audi         100ls  ...      18         22  17450.0\n",
              "\n",
              "[5 rows x 26 columns]"
            ]
          },
          "metadata": {},
          "execution_count": 10
        }
      ]
    },
    {
      "cell_type": "markdown",
      "source": [
        "**Visualisation**"
      ],
      "metadata": {
        "id": "q9yldOrO-C7u"
      }
    },
    {
      "cell_type": "code",
      "source": [
        "plt.title('Car Price')\n",
        "plt.ylabel(\"Price\")\n",
        "sns.boxplot(y=df.price)\n",
        "plt.show()\n",
        "print(df.price.describe())"
      ],
      "metadata": {
        "colab": {
          "base_uri": "https://localhost:8080/",
          "height": 424
        },
        "id": "DLhAuk7O-LCC",
        "outputId": "daaa3f3f-b8d7-4114-dc32-39bac5b451f3"
      },
      "execution_count": null,
      "outputs": [
        {
          "output_type": "display_data",
          "data": {
            "image/png": "[encoded data removed]",
            "text/plain": [
              "<Figure size 432x288 with 1 Axes>"
            ]
          },
          "metadata": {
            "needs_background": "light"
          }
        },
        {
          "output_type": "stream",
          "name": "stdout",
          "text": [
            "count      205.000000\n",
            "mean     13276.710571\n",
            "std       7988.852332\n",
            "min       5118.000000\n",
            "25%       7788.000000\n",
            "50%      10295.000000\n",
            "75%      16503.000000\n",
            "max      45400.000000\n",
            "Name: price, dtype: float64\n"
          ]
        }
      ]
    },
    {
      "cell_type": "markdown",
      "source": [
        "*Inference* : the price of the car is mainly distributed around 7500 and a bit more than 1500 with an avg of 13276"
      ],
      "metadata": {
        "id": "6MDOkQ02-OX6"
      }
    },
    {
      "cell_type": "code",
      "source": [
        "sns.distplot(df['price'])\n",
        "plt.title(\"Price Density\")\n",
        "plt.xlabel(\"Price\")\n",
        "plt.ylabel(\"Density\")\n",
        "plt.show()"
      ],
      "metadata": {
        "colab": {
          "base_uri": "https://localhost:8080/",
          "height": 350
        },
        "id": "drwko-38-PeK",
        "outputId": "99f4b2a2-f605-4fee-dded-af0d3bd606b3"
      },
      "execution_count": null,
      "outputs": [
        {
          "output_type": "stream",
          "name": "stderr",
          "text": [
            "/usr/local/lib/python3.7/dist-packages/seaborn/distributions.py:2619: FutureWarning: `distplot` is a deprecated function and will be removed in a future version. Please adapt your code to use either `displot` (a figure-level function with similar flexibility) or `histplot` (an axes-level function for histograms).\n",
            "  warnings.warn(msg, FutureWarning)\n"
          ]
        },
        {
          "output_type": "display_data",
          "data": {
            "image/png": "[encoded data removed]",
            "text/plain": [
              "<Figure size 432x288 with 1 Axes>"
            ]
          },
          "metadata": {
            "needs_background": "light"
          }
        }
      ]
    },
    {
      "cell_type": "markdown",
      "source": [
        "*Inference* : maximum no of cars been sold is in the range of 5000-10000 aprox"
      ],
      "metadata": {
        "id": "FXdsjuK--SRJ"
      }
    },
    {
      "cell_type": "markdown",
      "source": [
        "**Outliers**"
      ],
      "metadata": {
        "id": "1-YL_U7O8NC4"
      }
    },
    {
      "cell_type": "code",
      "metadata": {
        "colab": {
          "base_uri": "https://localhost:8080/"
        },
        "id": "G5BN7xHDZjmX",
        "outputId": "3f944e06-7c66-41f5-8516-0036de920ff6"
      },
      "source": [
        "Q1 = df.quantile(0.25)\n",
        "Q3 = df.quantile(0.75)\n",
        "IQR = Q3-Q1\n",
        "print(IQR) "
      ],
      "execution_count": null,
      "outputs": [
        {
          "output_type": "stream",
          "name": "stdout",
          "text": [
            "symboling              2.00\n",
            "wheelbase              7.90\n",
            "carlength             16.80\n",
            "carwidth               2.80\n",
            "carheight              3.50\n",
            "curbweight           790.00\n",
            "enginesize            44.00\n",
            "boreratio              0.43\n",
            "stroke                 0.30\n",
            "compressionratio       0.80\n",
            "horsepower            46.00\n",
            "peakrpm              700.00\n",
            "citympg               11.00\n",
            "highwaympg             9.00\n",
            "price               8715.00\n",
            "dtype: float64\n"
          ]
        }
      ]
    },
    {
      "cell_type": "code",
      "metadata": {
        "id": "RYiisYhJq_F1"
      },
      "source": [
        "df1 = df[~((df < (Q1 - 1.5 * IQR)) | (df > (Q3 + 1.5 * IQR))).any(axis=1)]"
      ],
      "execution_count": null,
      "outputs": []
    },
    {
      "cell_type": "code",
      "metadata": {
        "id": "kh3iksi7NVqq"
      },
      "source": [
        "df2 = df"
      ],
      "execution_count": null,
      "outputs": []
    },
    {
      "cell_type": "code",
      "metadata": {
        "id": "NH5-JleIfv7O"
      },
      "source": [
        "Q1 = df['wheelbase'].quantile(0.25)\n",
        "Q3 = df['wheelbase'].quantile(0.75)\n",
        "IQR = Q3-Q1\n",
        "df_now = df['wheelbase'][((df['wheelbase'] < (Q1 - 1.5 * IQR)) | (df['wheelbase'] > (Q3 + 1.5 * IQR)))]"
      ],
      "execution_count": null,
      "outputs": []
    },
    {
      "cell_type": "code",
      "metadata": {
        "colab": {
          "base_uri": "https://localhost:8080/"
        },
        "id": "gUvq4tRvgaNW",
        "outputId": "96fb74d5-ad55-4adc-f7a3-050b93720d46"
      },
      "source": [
        "df_now"
      ],
      "execution_count": null,
      "outputs": [
        {
          "output_type": "execute_result",
          "data": {
            "text/plain": [
              "car_ID\n",
              "71    115.6\n",
              "72    115.6\n",
              "74    120.9\n",
              "Name: wheelbase, dtype: float64"
            ]
          },
          "metadata": {},
          "execution_count": 17
        }
      ]
    },
    {
      "cell_type": "code",
      "metadata": {
        "id": "2T8eiIexipRO"
      },
      "source": [
        "for i in df_now:\n",
        "  df2.loc[(df2['wheelbase'] == i),['wheelbase']] = df1['wheelbase'].mean()"
      ],
      "execution_count": null,
      "outputs": []
    },
    {
      "cell_type": "code",
      "metadata": {
        "id": "QfkNnYadna6C"
      },
      "source": [
        "Q1 = df['carlength'].quantile(0.25)\n",
        "Q3 = df['carlength'].quantile(0.75)\n",
        "IQR = Q3-Q1\n",
        "df_now = df['carlength'][((df['carlength'] < (Q1 - 1.5 * IQR)) | (df['carlength'] > (Q3 + 1.5 * IQR)))]\n",
        "if len(df_now) != 0:\n",
        "  for i in df_now:\n",
        "    df2.loc[(df2['carlength'] == i),['carlength']] = df1['carlength'].mean()"
      ],
      "execution_count": null,
      "outputs": []
    },
    {
      "cell_type": "code",
      "metadata": {
        "id": "Z4eDcPmMOZCy"
      },
      "source": [
        "Q1 = df['carwidth'].quantile(0.25)\n",
        "Q3 = df['carwidth'].quantile(0.75)\n",
        "IQR = Q3-Q1\n",
        "df_now = df['carwidth'][((df['carwidth'] < (Q1 - 1.5 * IQR)) | (df['carwidth'] > (Q3 + 1.5 * IQR)))]\n",
        "if len(df_now) != 0:\n",
        "  for i in df_now:\n",
        "    df2.loc[(df2['carwidth'] == i),['carwidth']] = df1['carwidth'].mean()"
      ],
      "execution_count": null,
      "outputs": []
    },
    {
      "cell_type": "code",
      "metadata": {
        "id": "DXPcyUKQOzVF"
      },
      "source": [
        "Q1 = df['carheight'].quantile(0.25)\n",
        "Q3 = df['carheight'].quantile(0.75)\n",
        "IQR = Q3-Q1\n",
        "df_now = df['carheight'][((df['carheight'] < (Q1 - 1.5 * IQR)) | (df['carheight'] > (Q3 + 1.5 * IQR)))]\n",
        "if len(df_now) != 0:\n",
        "  for i in df_now:\n",
        "    df2.loc[(df2['carheight'] == i),['carheight']] = df1['carheight'].mean()"
      ],
      "execution_count": null,
      "outputs": []
    },
    {
      "cell_type": "code",
      "metadata": {
        "id": "INteJzKXTCpe"
      },
      "source": [
        "Q1 = df['curbweight'].quantile(0.25)\n",
        "Q3 = df['curbweight'].quantile(0.75)\n",
        "IQR = Q3-Q1\n",
        "df_now = df['curbweight'][((df['curbweight'] < (Q1 - 1.5 * IQR)) | (df['curbweight'] > (Q3 + 1.5 * IQR)))]\n",
        "if len(df_now) != 0:\n",
        "  for i in df_now:\n",
        "    df2.loc[(df2['curbweight'] == i),['curbweight']] = df1['curbweight'].mean()\n",
        "\n",
        "Q1 = df['enginesize'].quantile(0.25)\n",
        "Q3 = df['enginesize'].quantile(0.75)\n",
        "IQR = Q3-Q1\n",
        "df_now = df['enginesize'][((df['enginesize'] < (Q1 - 1.5 * IQR)) | (df['enginesize'] > (Q3 + 1.5 * IQR)))]\n",
        "if len(df_now) != 0:\n",
        "  for i in df_now:\n",
        "    df2.loc[(df2['enginesize'] == i),['enginesize']] = df1['enginesize'].mean()\n",
        "\n",
        "Q1 = df['boreratio'].quantile(0.25)\n",
        "Q3 = df['boreratio'].quantile(0.75)\n",
        "IQR = Q3-Q1\n",
        "df_now = df['boreratio'][((df['boreratio'] < (Q1 - 1.5 * IQR)) | (df['boreratio'] > (Q3 + 1.5 * IQR)))]\n",
        "if len(df_now) != 0:\n",
        "  for i in df_now:\n",
        "    df2.loc[(df2['boreratio'] == i),['boreratio']] = df1['boreratio'].mean()\n",
        "\n",
        "Q1 = df['stroke'].quantile(0.25)\n",
        "Q3 = df['stroke'].quantile(0.75)\n",
        "IQR = Q3-Q1\n",
        "df_now = df['stroke'][((df['stroke'] < (Q1 - 1.5 * IQR)) | (df['stroke'] > (Q3 + 1.5 * IQR)))]\n",
        "if len(df_now) != 0:\n",
        "  for i in df_now:\n",
        "    df2.loc[(df2['stroke'] == i),['stroke']] = df1['stroke'].mean()\n",
        "\n",
        "Q1 = df['compressionratio'].quantile(0.25)\n",
        "Q3 = df['compressionratio'].quantile(0.75)\n",
        "IQR = Q3-Q1\n",
        "df_now = df['compressionratio'][((df['compressionratio'] < (Q1 - 1.5 * IQR)) | (df['compressionratio'] > (Q3 + 1.5 * IQR)))]\n",
        "if len(df_now) != 0:\n",
        "  for i in df_now:\n",
        "    df2.loc[(df2['compressionratio'] == i),['compressionratio']] = df1['compressionratio'].mean()"
      ],
      "execution_count": null,
      "outputs": []
    },
    {
      "cell_type": "code",
      "metadata": {
        "id": "43b9XnWTU8XQ"
      },
      "source": [
        "Q1 = df['horsepower'].quantile(0.25)\n",
        "Q3 = df['horsepower'].quantile(0.75)\n",
        "IQR = Q3-Q1\n",
        "df_now = df['horsepower'][((df['horsepower'] < (Q1 - 1.5 * IQR)) | (df['curbweight'] > (Q3 + 1.5 * IQR)))]\n",
        "if len(df_now) != 0:\n",
        "  for i in df_now:\n",
        "    df2.loc[(df2['horsepower'] == i),['horsepower']] = df1['horsepower'].mean()\n",
        "\n",
        "Q1 = df['peakrpm'].quantile(0.25)\n",
        "Q3 = df['peakrpm'].quantile(0.75)\n",
        "IQR = Q3-Q1\n",
        "df_now = df['peakrpm'][((df['peakrpm'] < (Q1 - 1.5 * IQR)) | (df['peakrpm'] > (Q3 + 1.5 * IQR)))]\n",
        "if len(df_now) != 0:\n",
        "  for i in df_now:\n",
        "    df2.loc[(df2['peakrpm'] == i),['peakrpm']] = df1['peakrpm'].mean()\n",
        "\n",
        "Q1 = df['citympg'].quantile(0.25)\n",
        "Q3 = df['citympg'].quantile(0.75)\n",
        "IQR = Q3-Q1\n",
        "df_now = df['citympg'][((df['citympg'] < (Q1 - 1.5 * IQR)) | (df['citympg'] > (Q3 + 1.5 * IQR)))]\n",
        "if len(df_now) != 0:\n",
        "  for i in df_now:\n",
        "    df2.loc[(df2['citympg'] == i),['citympg']] = df1['citympg'].mean()\n",
        "\n",
        "Q1 = df['highwaympg'].quantile(0.25)\n",
        "Q3 = df['highwaympg'].quantile(0.75)\n",
        "IQR = Q3-Q1\n",
        "df_now = df['highwaympg'][((df['highwaympg'] < (Q1 - 1.5 * IQR)) | (df['highwaympg'] > (Q3 + 1.5 * IQR)))]\n",
        "if len(df_now) != 0:\n",
        "  for i in df_now:\n",
        "    df2.loc[(df2['highwaympg'] == i),['highwaympg']] = df1['highwaympg'].mean()"
      ],
      "execution_count": null,
      "outputs": []
    },
    {
      "cell_type": "code",
      "metadata": {
        "colab": {
          "base_uri": "https://localhost:8080/",
          "height": 475
        },
        "id": "phkF4iUMX9n1",
        "outputId": "bbb1b9bc-6425-41b5-e913-e866ca076add"
      },
      "source": [
        "df2"
      ],
      "execution_count": null,
      "outputs": [
        {
          "output_type": "execute_result",
          "data": {
            "text/html": [
              "<div>\n",
              "<style scoped>\n",
              "    .dataframe tbody tr th:only-of-type {\n",
              "        vertical-align: middle;\n",
              "    }\n",
              "\n",
              "    .dataframe tbody tr th {\n",
              "        vertical-align: top;\n",
              "    }\n",
              "\n",
              "    .dataframe thead th {\n",
              "        text-align: right;\n",
              "    }\n",
              "</style>\n",
              "<table border=\"1\" class=\"dataframe\">\n",
              "  <thead>\n",
              "    <tr style=\"text-align: right;\">\n",
              "      <th></th>\n",
              "      <th>symboling</th>\n",
              "      <th>CompanyName</th>\n",
              "      <th>CarName</th>\n",
              "      <th>fueltype</th>\n",
              "      <th>aspiration</th>\n",
              "      <th>doornumber</th>\n",
              "      <th>carbody</th>\n",
              "      <th>drivewheel</th>\n",
              "      <th>enginelocation</th>\n",
              "      <th>wheelbase</th>\n",
              "      <th>carlength</th>\n",
              "      <th>carwidth</th>\n",
              "      <th>carheight</th>\n",
              "      <th>curbweight</th>\n",
              "      <th>enginetype</th>\n",
              "      <th>cylindernumber</th>\n",
              "      <th>enginesize</th>\n",
              "      <th>fuelsystem</th>\n",
              "      <th>boreratio</th>\n",
              "      <th>stroke</th>\n",
              "      <th>compressionratio</th>\n",
              "      <th>horsepower</th>\n",
              "      <th>peakrpm</th>\n",
              "      <th>citympg</th>\n",
              "      <th>highwaympg</th>\n",
              "      <th>price</th>\n",
              "    </tr>\n",
              "    <tr>\n",
              "      <th>car_ID</th>\n",
              "      <th></th>\n",
              "      <th></th>\n",
              "      <th></th>\n",
              "      <th></th>\n",
              "      <th></th>\n",
              "      <th></th>\n",
              "      <th></th>\n",
              "      <th></th>\n",
              "      <th></th>\n",
              "      <th></th>\n",
              "      <th></th>\n",
              "      <th></th>\n",
              "      <th></th>\n",
              "      <th></th>\n",
              "      <th></th>\n",
              "      <th></th>\n",
              "      <th></th>\n",
              "      <th></th>\n",
              "      <th></th>\n",
              "      <th></th>\n",
              "      <th></th>\n",
              "      <th></th>\n",
              "      <th></th>\n",
              "      <th></th>\n",
              "      <th></th>\n",
              "      <th></th>\n",
              "    </tr>\n",
              "  </thead>\n",
              "  <tbody>\n",
              "    <tr>\n",
              "      <th>1</th>\n",
              "      <td>3</td>\n",
              "      <td>alfa-romero</td>\n",
              "      <td>giulia</td>\n",
              "      <td>gas</td>\n",
              "      <td>std</td>\n",
              "      <td>two</td>\n",
              "      <td>convertible</td>\n",
              "      <td>rwd</td>\n",
              "      <td>front</td>\n",
              "      <td>88.6</td>\n",
              "      <td>168.8</td>\n",
              "      <td>64.1</td>\n",
              "      <td>48.8</td>\n",
              "      <td>2548</td>\n",
              "      <td>dohc</td>\n",
              "      <td>four</td>\n",
              "      <td>130.0</td>\n",
              "      <td>mpfi</td>\n",
              "      <td>3.47</td>\n",
              "      <td>2.68</td>\n",
              "      <td>9.000000</td>\n",
              "      <td>96.94964</td>\n",
              "      <td>5000.0</td>\n",
              "      <td>21.0</td>\n",
              "      <td>27.0</td>\n",
              "      <td>13495.0</td>\n",
              "    </tr>\n",
              "    <tr>\n",
              "      <th>2</th>\n",
              "      <td>3</td>\n",
              "      <td>alfa-romero</td>\n",
              "      <td>stelvio</td>\n",
              "      <td>gas</td>\n",
              "      <td>std</td>\n",
              "      <td>two</td>\n",
              "      <td>convertible</td>\n",
              "      <td>rwd</td>\n",
              "      <td>front</td>\n",
              "      <td>88.6</td>\n",
              "      <td>168.8</td>\n",
              "      <td>64.1</td>\n",
              "      <td>48.8</td>\n",
              "      <td>2548</td>\n",
              "      <td>dohc</td>\n",
              "      <td>four</td>\n",
              "      <td>130.0</td>\n",
              "      <td>mpfi</td>\n",
              "      <td>3.47</td>\n",
              "      <td>2.68</td>\n",
              "      <td>9.000000</td>\n",
              "      <td>96.94964</td>\n",
              "      <td>5000.0</td>\n",
              "      <td>21.0</td>\n",
              "      <td>27.0</td>\n",
              "      <td>16500.0</td>\n",
              "    </tr>\n",
              "    <tr>\n",
              "      <th>3</th>\n",
              "      <td>1</td>\n",
              "      <td>alfa-romero</td>\n",
              "      <td>Quadrifoglio</td>\n",
              "      <td>gas</td>\n",
              "      <td>std</td>\n",
              "      <td>two</td>\n",
              "      <td>hatchback</td>\n",
              "      <td>rwd</td>\n",
              "      <td>front</td>\n",
              "      <td>94.5</td>\n",
              "      <td>171.2</td>\n",
              "      <td>65.5</td>\n",
              "      <td>52.4</td>\n",
              "      <td>2823</td>\n",
              "      <td>ohcv</td>\n",
              "      <td>six</td>\n",
              "      <td>152.0</td>\n",
              "      <td>mpfi</td>\n",
              "      <td>2.68</td>\n",
              "      <td>3.47</td>\n",
              "      <td>9.000000</td>\n",
              "      <td>96.94964</td>\n",
              "      <td>5000.0</td>\n",
              "      <td>19.0</td>\n",
              "      <td>26.0</td>\n",
              "      <td>16500.0</td>\n",
              "    </tr>\n",
              "    <tr>\n",
              "      <th>4</th>\n",
              "      <td>2</td>\n",
              "      <td>audi</td>\n",
              "      <td>ls</td>\n",
              "      <td>gas</td>\n",
              "      <td>std</td>\n",
              "      <td>four</td>\n",
              "      <td>sedan</td>\n",
              "      <td>fwd</td>\n",
              "      <td>front</td>\n",
              "      <td>99.8</td>\n",
              "      <td>176.6</td>\n",
              "      <td>66.2</td>\n",
              "      <td>54.3</td>\n",
              "      <td>2337</td>\n",
              "      <td>ohc</td>\n",
              "      <td>four</td>\n",
              "      <td>109.0</td>\n",
              "      <td>mpfi</td>\n",
              "      <td>3.19</td>\n",
              "      <td>3.40</td>\n",
              "      <td>10.000000</td>\n",
              "      <td>96.94964</td>\n",
              "      <td>5500.0</td>\n",
              "      <td>24.0</td>\n",
              "      <td>30.0</td>\n",
              "      <td>13950.0</td>\n",
              "    </tr>\n",
              "    <tr>\n",
              "      <th>5</th>\n",
              "      <td>2</td>\n",
              "      <td>audi</td>\n",
              "      <td>100ls</td>\n",
              "      <td>gas</td>\n",
              "      <td>std</td>\n",
              "      <td>four</td>\n",
              "      <td>sedan</td>\n",
              "      <td>4wd</td>\n",
              "      <td>front</td>\n",
              "      <td>99.4</td>\n",
              "      <td>176.6</td>\n",
              "      <td>66.4</td>\n",
              "      <td>54.3</td>\n",
              "      <td>2824</td>\n",
              "      <td>ohc</td>\n",
              "      <td>five</td>\n",
              "      <td>136.0</td>\n",
              "      <td>mpfi</td>\n",
              "      <td>3.19</td>\n",
              "      <td>3.40</td>\n",
              "      <td>8.000000</td>\n",
              "      <td>96.94964</td>\n",
              "      <td>5500.0</td>\n",
              "      <td>18.0</td>\n",
              "      <td>22.0</td>\n",
              "      <td>17450.0</td>\n",
              "    </tr>\n",
              "    <tr>\n",
              "      <th>...</th>\n",
              "      <td>...</td>\n",
              "      <td>...</td>\n",
              "      <td>...</td>\n",
              "      <td>...</td>\n",
              "      <td>...</td>\n",
              "      <td>...</td>\n",
              "      <td>...</td>\n",
              "      <td>...</td>\n",
              "      <td>...</td>\n",
              "      <td>...</td>\n",
              "      <td>...</td>\n",
              "      <td>...</td>\n",
              "      <td>...</td>\n",
              "      <td>...</td>\n",
              "      <td>...</td>\n",
              "      <td>...</td>\n",
              "      <td>...</td>\n",
              "      <td>...</td>\n",
              "      <td>...</td>\n",
              "      <td>...</td>\n",
              "      <td>...</td>\n",
              "      <td>...</td>\n",
              "      <td>...</td>\n",
              "      <td>...</td>\n",
              "      <td>...</td>\n",
              "      <td>...</td>\n",
              "    </tr>\n",
              "    <tr>\n",
              "      <th>201</th>\n",
              "      <td>-1</td>\n",
              "      <td>volvo</td>\n",
              "      <td>(sw)</td>\n",
              "      <td>gas</td>\n",
              "      <td>std</td>\n",
              "      <td>four</td>\n",
              "      <td>sedan</td>\n",
              "      <td>rwd</td>\n",
              "      <td>front</td>\n",
              "      <td>109.1</td>\n",
              "      <td>188.8</td>\n",
              "      <td>68.9</td>\n",
              "      <td>55.5</td>\n",
              "      <td>2952</td>\n",
              "      <td>ohc</td>\n",
              "      <td>four</td>\n",
              "      <td>141.0</td>\n",
              "      <td>mpfi</td>\n",
              "      <td>3.78</td>\n",
              "      <td>3.15</td>\n",
              "      <td>9.500000</td>\n",
              "      <td>96.94964</td>\n",
              "      <td>5400.0</td>\n",
              "      <td>23.0</td>\n",
              "      <td>28.0</td>\n",
              "      <td>16845.0</td>\n",
              "    </tr>\n",
              "    <tr>\n",
              "      <th>202</th>\n",
              "      <td>-1</td>\n",
              "      <td>volvo</td>\n",
              "      <td>144ea</td>\n",
              "      <td>gas</td>\n",
              "      <td>turbo</td>\n",
              "      <td>four</td>\n",
              "      <td>sedan</td>\n",
              "      <td>rwd</td>\n",
              "      <td>front</td>\n",
              "      <td>109.1</td>\n",
              "      <td>188.8</td>\n",
              "      <td>68.8</td>\n",
              "      <td>55.5</td>\n",
              "      <td>3049</td>\n",
              "      <td>ohc</td>\n",
              "      <td>four</td>\n",
              "      <td>141.0</td>\n",
              "      <td>mpfi</td>\n",
              "      <td>3.78</td>\n",
              "      <td>3.15</td>\n",
              "      <td>8.700000</td>\n",
              "      <td>96.94964</td>\n",
              "      <td>5300.0</td>\n",
              "      <td>19.0</td>\n",
              "      <td>25.0</td>\n",
              "      <td>19045.0</td>\n",
              "    </tr>\n",
              "    <tr>\n",
              "      <th>203</th>\n",
              "      <td>-1</td>\n",
              "      <td>volvo</td>\n",
              "      <td>244dl</td>\n",
              "      <td>gas</td>\n",
              "      <td>std</td>\n",
              "      <td>four</td>\n",
              "      <td>sedan</td>\n",
              "      <td>rwd</td>\n",
              "      <td>front</td>\n",
              "      <td>109.1</td>\n",
              "      <td>188.8</td>\n",
              "      <td>68.9</td>\n",
              "      <td>55.5</td>\n",
              "      <td>3012</td>\n",
              "      <td>ohcv</td>\n",
              "      <td>six</td>\n",
              "      <td>173.0</td>\n",
              "      <td>mpfi</td>\n",
              "      <td>3.58</td>\n",
              "      <td>2.87</td>\n",
              "      <td>8.800000</td>\n",
              "      <td>96.94964</td>\n",
              "      <td>5500.0</td>\n",
              "      <td>18.0</td>\n",
              "      <td>23.0</td>\n",
              "      <td>21485.0</td>\n",
              "    </tr>\n",
              "    <tr>\n",
              "      <th>204</th>\n",
              "      <td>-1</td>\n",
              "      <td>volvo</td>\n",
              "      <td>246</td>\n",
              "      <td>diesel</td>\n",
              "      <td>turbo</td>\n",
              "      <td>four</td>\n",
              "      <td>sedan</td>\n",
              "      <td>rwd</td>\n",
              "      <td>front</td>\n",
              "      <td>109.1</td>\n",
              "      <td>188.8</td>\n",
              "      <td>68.9</td>\n",
              "      <td>55.5</td>\n",
              "      <td>3217</td>\n",
              "      <td>ohc</td>\n",
              "      <td>six</td>\n",
              "      <td>145.0</td>\n",
              "      <td>idi</td>\n",
              "      <td>3.01</td>\n",
              "      <td>3.40</td>\n",
              "      <td>8.971367</td>\n",
              "      <td>96.94964</td>\n",
              "      <td>4800.0</td>\n",
              "      <td>26.0</td>\n",
              "      <td>27.0</td>\n",
              "      <td>22470.0</td>\n",
              "    </tr>\n",
              "    <tr>\n",
              "      <th>205</th>\n",
              "      <td>-1</td>\n",
              "      <td>volvo</td>\n",
              "      <td>264gl</td>\n",
              "      <td>gas</td>\n",
              "      <td>turbo</td>\n",
              "      <td>four</td>\n",
              "      <td>sedan</td>\n",
              "      <td>rwd</td>\n",
              "      <td>front</td>\n",
              "      <td>109.1</td>\n",
              "      <td>188.8</td>\n",
              "      <td>68.9</td>\n",
              "      <td>55.5</td>\n",
              "      <td>3062</td>\n",
              "      <td>ohc</td>\n",
              "      <td>four</td>\n",
              "      <td>141.0</td>\n",
              "      <td>mpfi</td>\n",
              "      <td>3.78</td>\n",
              "      <td>3.15</td>\n",
              "      <td>9.500000</td>\n",
              "      <td>96.94964</td>\n",
              "      <td>5400.0</td>\n",
              "      <td>19.0</td>\n",
              "      <td>25.0</td>\n",
              "      <td>22625.0</td>\n",
              "    </tr>\n",
              "  </tbody>\n",
              "</table>\n",
              "<p>205 rows × 26 columns</p>\n",
              "</div>"
            ],
            "text/plain": [
              "        symboling  CompanyName       CarName  ... citympg highwaympg    price\n",
              "car_ID                                        ...                            \n",
              "1               3  alfa-romero        giulia  ...    21.0       27.0  13495.0\n",
              "2               3  alfa-romero       stelvio  ...    21.0       27.0  16500.0\n",
              "3               1  alfa-romero  Quadrifoglio  ...    19.0       26.0  16500.0\n",
              "4               2         audi            ls  ...    24.0       30.0  13950.0\n",
              "5               2         audi         100ls  ...    18.0       22.0  17450.0\n",
              "...           ...          ...           ...  ...     ...        ...      ...\n",
              "201            -1        volvo          (sw)  ...    23.0       28.0  16845.0\n",
              "202            -1        volvo         144ea  ...    19.0       25.0  19045.0\n",
              "203            -1        volvo         244dl  ...    18.0       23.0  21485.0\n",
              "204            -1        volvo           246  ...    26.0       27.0  22470.0\n",
              "205            -1        volvo         264gl  ...    19.0       25.0  22625.0\n",
              "\n",
              "[205 rows x 26 columns]"
            ]
          },
          "metadata": {},
          "execution_count": 24
        }
      ]
    },
    {
      "cell_type": "code",
      "metadata": {
        "colab": {
          "base_uri": "https://localhost:8080/",
          "height": 258
        },
        "id": "sgzTiXfduieF",
        "outputId": "cd4f9c1d-3b6d-4a60-d77c-c60ffc26518b"
      },
      "source": [
        "df_final = df2\n",
        "label_encoder = preprocessing.LabelEncoder()\n",
        "df3=['CompanyName','CarName','fueltype','aspiration','doornumber','carbody','drivewheel','enginelocation','enginetype','cylindernumber','fuelsystem']\n",
        "for column in df3:\n",
        "  df_final[column]= label_encoder.fit_transform(df_final[column])\n",
        "df_final.head(5)"
      ],
      "execution_count": null,
      "outputs": [
        {
          "output_type": "execute_result",
          "data": {
            "text/html": [
              "<div>\n",
              "<style scoped>\n",
              "    .dataframe tbody tr th:only-of-type {\n",
              "        vertical-align: middle;\n",
              "    }\n",
              "\n",
              "    .dataframe tbody tr th {\n",
              "        vertical-align: top;\n",
              "    }\n",
              "\n",
              "    .dataframe thead th {\n",
              "        text-align: right;\n",
              "    }\n",
              "</style>\n",
              "<table border=\"1\" class=\"dataframe\">\n",
              "  <thead>\n",
              "    <tr style=\"text-align: right;\">\n",
              "      <th></th>\n",
              "      <th>symboling</th>\n",
              "      <th>CompanyName</th>\n",
              "      <th>CarName</th>\n",
              "      <th>fueltype</th>\n",
              "      <th>aspiration</th>\n",
              "      <th>doornumber</th>\n",
              "      <th>carbody</th>\n",
              "      <th>drivewheel</th>\n",
              "      <th>enginelocation</th>\n",
              "      <th>wheelbase</th>\n",
              "      <th>carlength</th>\n",
              "      <th>carwidth</th>\n",
              "      <th>carheight</th>\n",
              "      <th>curbweight</th>\n",
              "      <th>enginetype</th>\n",
              "      <th>cylindernumber</th>\n",
              "      <th>enginesize</th>\n",
              "      <th>fuelsystem</th>\n",
              "      <th>boreratio</th>\n",
              "      <th>stroke</th>\n",
              "      <th>compressionratio</th>\n",
              "      <th>horsepower</th>\n",
              "      <th>peakrpm</th>\n",
              "      <th>citympg</th>\n",
              "      <th>highwaympg</th>\n",
              "      <th>price</th>\n",
              "    </tr>\n",
              "    <tr>\n",
              "      <th>car_ID</th>\n",
              "      <th></th>\n",
              "      <th></th>\n",
              "      <th></th>\n",
              "      <th></th>\n",
              "      <th></th>\n",
              "      <th></th>\n",
              "      <th></th>\n",
              "      <th></th>\n",
              "      <th></th>\n",
              "      <th></th>\n",
              "      <th></th>\n",
              "      <th></th>\n",
              "      <th></th>\n",
              "      <th></th>\n",
              "      <th></th>\n",
              "      <th></th>\n",
              "      <th></th>\n",
              "      <th></th>\n",
              "      <th></th>\n",
              "      <th></th>\n",
              "      <th></th>\n",
              "      <th></th>\n",
              "      <th></th>\n",
              "      <th></th>\n",
              "      <th></th>\n",
              "      <th></th>\n",
              "    </tr>\n",
              "  </thead>\n",
              "  <tbody>\n",
              "    <tr>\n",
              "      <th>1</th>\n",
              "      <td>3</td>\n",
              "      <td>0</td>\n",
              "      <td>60</td>\n",
              "      <td>1</td>\n",
              "      <td>0</td>\n",
              "      <td>1</td>\n",
              "      <td>0</td>\n",
              "      <td>2</td>\n",
              "      <td>0</td>\n",
              "      <td>88.6</td>\n",
              "      <td>168.8</td>\n",
              "      <td>64.1</td>\n",
              "      <td>48.8</td>\n",
              "      <td>2548</td>\n",
              "      <td>0</td>\n",
              "      <td>2</td>\n",
              "      <td>130.0</td>\n",
              "      <td>5</td>\n",
              "      <td>3.47</td>\n",
              "      <td>2.68</td>\n",
              "      <td>9.0</td>\n",
              "      <td>96.94964</td>\n",
              "      <td>5000.0</td>\n",
              "      <td>21.0</td>\n",
              "      <td>27.0</td>\n",
              "      <td>13495.0</td>\n",
              "    </tr>\n",
              "    <tr>\n",
              "      <th>2</th>\n",
              "      <td>3</td>\n",
              "      <td>0</td>\n",
              "      <td>103</td>\n",
              "      <td>1</td>\n",
              "      <td>0</td>\n",
              "      <td>1</td>\n",
              "      <td>0</td>\n",
              "      <td>2</td>\n",
              "      <td>0</td>\n",
              "      <td>88.6</td>\n",
              "      <td>168.8</td>\n",
              "      <td>64.1</td>\n",
              "      <td>48.8</td>\n",
              "      <td>2548</td>\n",
              "      <td>0</td>\n",
              "      <td>2</td>\n",
              "      <td>130.0</td>\n",
              "      <td>5</td>\n",
              "      <td>3.47</td>\n",
              "      <td>2.68</td>\n",
              "      <td>9.0</td>\n",
              "      <td>96.94964</td>\n",
              "      <td>5000.0</td>\n",
              "      <td>21.0</td>\n",
              "      <td>27.0</td>\n",
              "      <td>16500.0</td>\n",
              "    </tr>\n",
              "    <tr>\n",
              "      <th>3</th>\n",
              "      <td>1</td>\n",
              "      <td>0</td>\n",
              "      <td>29</td>\n",
              "      <td>1</td>\n",
              "      <td>0</td>\n",
              "      <td>1</td>\n",
              "      <td>2</td>\n",
              "      <td>2</td>\n",
              "      <td>0</td>\n",
              "      <td>94.5</td>\n",
              "      <td>171.2</td>\n",
              "      <td>65.5</td>\n",
              "      <td>52.4</td>\n",
              "      <td>2823</td>\n",
              "      <td>5</td>\n",
              "      <td>3</td>\n",
              "      <td>152.0</td>\n",
              "      <td>5</td>\n",
              "      <td>2.68</td>\n",
              "      <td>3.47</td>\n",
              "      <td>9.0</td>\n",
              "      <td>96.94964</td>\n",
              "      <td>5000.0</td>\n",
              "      <td>19.0</td>\n",
              "      <td>26.0</td>\n",
              "      <td>16500.0</td>\n",
              "    </tr>\n",
              "    <tr>\n",
              "      <th>4</th>\n",
              "      <td>2</td>\n",
              "      <td>1</td>\n",
              "      <td>78</td>\n",
              "      <td>1</td>\n",
              "      <td>0</td>\n",
              "      <td>0</td>\n",
              "      <td>3</td>\n",
              "      <td>1</td>\n",
              "      <td>0</td>\n",
              "      <td>99.8</td>\n",
              "      <td>176.6</td>\n",
              "      <td>66.2</td>\n",
              "      <td>54.3</td>\n",
              "      <td>2337</td>\n",
              "      <td>3</td>\n",
              "      <td>2</td>\n",
              "      <td>109.0</td>\n",
              "      <td>5</td>\n",
              "      <td>3.19</td>\n",
              "      <td>3.40</td>\n",
              "      <td>10.0</td>\n",
              "      <td>96.94964</td>\n",
              "      <td>5500.0</td>\n",
              "      <td>24.0</td>\n",
              "      <td>30.0</td>\n",
              "      <td>13950.0</td>\n",
              "    </tr>\n",
              "    <tr>\n",
              "      <th>5</th>\n",
              "      <td>2</td>\n",
              "      <td>1</td>\n",
              "      <td>5</td>\n",
              "      <td>1</td>\n",
              "      <td>0</td>\n",
              "      <td>0</td>\n",
              "      <td>3</td>\n",
              "      <td>0</td>\n",
              "      <td>0</td>\n",
              "      <td>99.4</td>\n",
              "      <td>176.6</td>\n",
              "      <td>66.4</td>\n",
              "      <td>54.3</td>\n",
              "      <td>2824</td>\n",
              "      <td>3</td>\n",
              "      <td>1</td>\n",
              "      <td>136.0</td>\n",
              "      <td>5</td>\n",
              "      <td>3.19</td>\n",
              "      <td>3.40</td>\n",
              "      <td>8.0</td>\n",
              "      <td>96.94964</td>\n",
              "      <td>5500.0</td>\n",
              "      <td>18.0</td>\n",
              "      <td>22.0</td>\n",
              "      <td>17450.0</td>\n",
              "    </tr>\n",
              "  </tbody>\n",
              "</table>\n",
              "</div>"
            ],
            "text/plain": [
              "        symboling  CompanyName  CarName  ...  citympg  highwaympg    price\n",
              "car_ID                                   ...                              \n",
              "1               3            0       60  ...     21.0        27.0  13495.0\n",
              "2               3            0      103  ...     21.0        27.0  16500.0\n",
              "3               1            0       29  ...     19.0        26.0  16500.0\n",
              "4               2            1       78  ...     24.0        30.0  13950.0\n",
              "5               2            1        5  ...     18.0        22.0  17450.0\n",
              "\n",
              "[5 rows x 26 columns]"
            ]
          },
          "metadata": {},
          "execution_count": 25
        }
      ]
    },
    {
      "cell_type": "code",
      "metadata": {
        "id": "Png17qvuSu4v"
      },
      "source": [
        "X=df_final.drop(labels=['price'],axis=1)\n",
        "y=df_final['price']\n",
        "           "
      ],
      "execution_count": null,
      "outputs": []
    },
    {
      "cell_type": "code",
      "metadata": {
        "colab": {
          "base_uri": "https://localhost:8080/"
        },
        "id": "EGwn6nnmTTid",
        "outputId": "16946355-cf03-48ed-ead5-827c276673a3"
      },
      "source": [
        "X_train,X_test,y_train,y_test=train_test_split(df_final.drop(labels=['price'],axis=1),df_final['price'],test_size=0.3,random_state=0)\n",
        "X_train.shape,X_test.shape"
      ],
      "execution_count": null,
      "outputs": [
        {
          "output_type": "execute_result",
          "data": {
            "text/plain": [
              "((143, 25), (62, 25))"
            ]
          },
          "metadata": {},
          "execution_count": 27
        }
      ]
    },
    {
      "cell_type": "markdown",
      "metadata": {
        "id": "DYLkOg3QfKUW"
      },
      "source": [
        "# **Feature Engineering**"
      ]
    },
    {
      "cell_type": "markdown",
      "metadata": {
        "id": "8Ea_PwoyJQHH"
      },
      "source": [
        "**Feature selection using Variance Threshold**\n",
        "\n",
        "\n",
        "\n"
      ]
    },
    {
      "cell_type": "code",
      "metadata": {
        "id": "5evmn6tbxPRa",
        "colab": {
          "base_uri": "https://localhost:8080/"
        },
        "outputId": "9205b6e2-4844-4787-89a7-ae7f43f0ca09"
      },
      "source": [
        "selector=VarianceThreshold(threshold=0.45)\n",
        "selector.fit(X_train)"
      ],
      "execution_count": null,
      "outputs": [
        {
          "output_type": "execute_result",
          "data": {
            "text/plain": [
              "VarianceThreshold(threshold=0.45)"
            ]
          },
          "metadata": {},
          "execution_count": 28
        }
      ]
    },
    {
      "cell_type": "code",
      "metadata": {
        "id": "jNCPKhsKe5g4",
        "colab": {
          "base_uri": "https://localhost:8080/"
        },
        "outputId": "46c3232b-35ac-4169-de59-769ec4ec0961"
      },
      "source": [
        "sum(selector.get_support())"
      ],
      "execution_count": null,
      "outputs": [
        {
          "output_type": "execute_result",
          "data": {
            "text/plain": [
              "16"
            ]
          },
          "metadata": {},
          "execution_count": 29
        }
      ]
    },
    {
      "cell_type": "code",
      "metadata": {
        "id": "lBw-F7gm3-to",
        "colab": {
          "base_uri": "https://localhost:8080/"
        },
        "outputId": "e4e824a8-f369-4513-cfc2-1ab8f77456a2"
      },
      "source": [
        "selector.get_support(indices=True)"
      ],
      "execution_count": null,
      "outputs": [
        {
          "output_type": "execute_result",
          "data": {
            "text/plain": [
              "array([ 0,  1,  2,  6,  9, 10, 11, 12, 13, 14, 15, 16, 17, 22, 23, 24])"
            ]
          },
          "metadata": {},
          "execution_count": 30
        }
      ]
    },
    {
      "cell_type": "code",
      "metadata": {
        "id": "o3wOw3eE4EwC",
        "colab": {
          "base_uri": "https://localhost:8080/"
        },
        "outputId": "30b47094-5b37-4340-e3d8-acda756b8c53"
      },
      "source": [
        "X_train.columns[selector.get_support()]"
      ],
      "execution_count": null,
      "outputs": [
        {
          "output_type": "execute_result",
          "data": {
            "text/plain": [
              "Index(['symboling', 'CompanyName', 'CarName', 'carbody', 'wheelbase',\n",
              "       'carlength', 'carwidth', 'carheight', 'curbweight', 'enginetype',\n",
              "       'cylindernumber', 'enginesize', 'fuelsystem', 'peakrpm', 'citympg',\n",
              "       'highwaympg'],\n",
              "      dtype='object')"
            ]
          },
          "metadata": {},
          "execution_count": 31
        }
      ]
    },
    {
      "cell_type": "markdown",
      "metadata": {
        "id": "Hm3G80u8B6tn"
      },
      "source": [
        " **Feature selection using corelation**"
      ]
    },
    {
      "cell_type": "code",
      "metadata": {
        "id": "uZwSw629j6NK"
      },
      "source": [
        "X_train,X_test,y_train,y_test=train_test_split(df_final.drop(labels=['price'], axis=1),\n",
        "    df_final['price'],\n",
        "    test_size=0.3,\n",
        "    random_state=0)"
      ],
      "execution_count": null,
      "outputs": []
    },
    {
      "cell_type": "code",
      "metadata": {
        "id": "xj0_4WpSCnpd",
        "colab": {
          "base_uri": "https://localhost:8080/",
          "height": 1000
        },
        "outputId": "79f764d7-c61d-47e7-e047-eb28f95dc88c"
      },
      "source": [
        "X_train.corr()"
      ],
      "execution_count": null,
      "outputs": [
        {
          "output_type": "execute_result",
          "data": {
            "text/html": [
              "<div>\n",
              "<style scoped>\n",
              "    .dataframe tbody tr th:only-of-type {\n",
              "        vertical-align: middle;\n",
              "    }\n",
              "\n",
              "    .dataframe tbody tr th {\n",
              "        vertical-align: top;\n",
              "    }\n",
              "\n",
              "    .dataframe thead th {\n",
              "        text-align: right;\n",
              "    }\n",
              "</style>\n",
              "<table border=\"1\" class=\"dataframe\">\n",
              "  <thead>\n",
              "    <tr style=\"text-align: right;\">\n",
              "      <th></th>\n",
              "      <th>symboling</th>\n",
              "      <th>CompanyName</th>\n",
              "      <th>CarName</th>\n",
              "      <th>fueltype</th>\n",
              "      <th>aspiration</th>\n",
              "      <th>doornumber</th>\n",
              "      <th>carbody</th>\n",
              "      <th>drivewheel</th>\n",
              "      <th>enginelocation</th>\n",
              "      <th>wheelbase</th>\n",
              "      <th>carlength</th>\n",
              "      <th>carwidth</th>\n",
              "      <th>carheight</th>\n",
              "      <th>curbweight</th>\n",
              "      <th>enginetype</th>\n",
              "      <th>cylindernumber</th>\n",
              "      <th>enginesize</th>\n",
              "      <th>fuelsystem</th>\n",
              "      <th>boreratio</th>\n",
              "      <th>stroke</th>\n",
              "      <th>compressionratio</th>\n",
              "      <th>horsepower</th>\n",
              "      <th>peakrpm</th>\n",
              "      <th>citympg</th>\n",
              "      <th>highwaympg</th>\n",
              "    </tr>\n",
              "  </thead>\n",
              "  <tbody>\n",
              "    <tr>\n",
              "      <th>symboling</th>\n",
              "      <td>1.000000e+00</td>\n",
              "      <td>-1.441980e-01</td>\n",
              "      <td>1.058395e-01</td>\n",
              "      <td>1.923986e-01</td>\n",
              "      <td>-6.521759e-02</td>\n",
              "      <td>6.886202e-01</td>\n",
              "      <td>-6.101090e-01</td>\n",
              "      <td>-3.454950e-02</td>\n",
              "      <td>2.679080e-01</td>\n",
              "      <td>-5.727159e-01</td>\n",
              "      <td>-4.059011e-01</td>\n",
              "      <td>-2.888542e-01</td>\n",
              "      <td>-5.920038e-01</td>\n",
              "      <td>-2.539860e-01</td>\n",
              "      <td>7.617039e-02</td>\n",
              "      <td>2.179539e-01</td>\n",
              "      <td>-9.899893e-02</td>\n",
              "      <td>6.763292e-02</td>\n",
              "      <td>-1.402890e-01</td>\n",
              "      <td>-1.091199e-01</td>\n",
              "      <td>1.514448e-01</td>\n",
              "      <td>3.976780e-17</td>\n",
              "      <td>2.546148e-01</td>\n",
              "      <td>-5.251590e-02</td>\n",
              "      <td>2.907300e-02</td>\n",
              "    </tr>\n",
              "    <tr>\n",
              "      <th>CompanyName</th>\n",
              "      <td>-1.441980e-01</td>\n",
              "      <td>1.000000e+00</td>\n",
              "      <td>-1.353611e-01</td>\n",
              "      <td>-9.903764e-02</td>\n",
              "      <td>-5.139994e-03</td>\n",
              "      <td>-1.563739e-01</td>\n",
              "      <td>1.340158e-01</td>\n",
              "      <td>-7.903566e-02</td>\n",
              "      <td>6.693429e-02</td>\n",
              "      <td>1.016694e-01</td>\n",
              "      <td>3.379245e-02</td>\n",
              "      <td>2.538510e-02</td>\n",
              "      <td>2.036667e-01</td>\n",
              "      <td>-8.746131e-02</td>\n",
              "      <td>-3.360415e-02</td>\n",
              "      <td>2.303783e-02</td>\n",
              "      <td>8.920170e-03</td>\n",
              "      <td>6.158360e-02</td>\n",
              "      <td>1.810812e-01</td>\n",
              "      <td>-9.285031e-02</td>\n",
              "      <td>1.433414e-01</td>\n",
              "      <td>7.924254e-17</td>\n",
              "      <td>-1.943367e-01</td>\n",
              "      <td>1.954595e-01</td>\n",
              "      <td>1.889938e-01</td>\n",
              "    </tr>\n",
              "    <tr>\n",
              "      <th>CarName</th>\n",
              "      <td>1.058395e-01</td>\n",
              "      <td>-1.353611e-01</td>\n",
              "      <td>1.000000e+00</td>\n",
              "      <td>1.787564e-01</td>\n",
              "      <td>-2.245780e-01</td>\n",
              "      <td>2.826942e-02</td>\n",
              "      <td>-1.549951e-02</td>\n",
              "      <td>-7.455291e-02</td>\n",
              "      <td>-9.465480e-03</td>\n",
              "      <td>-2.057856e-01</td>\n",
              "      <td>-6.898524e-02</td>\n",
              "      <td>-1.256556e-01</td>\n",
              "      <td>-1.955317e-01</td>\n",
              "      <td>-2.465705e-02</td>\n",
              "      <td>-4.158308e-02</td>\n",
              "      <td>1.010400e-01</td>\n",
              "      <td>-9.710588e-02</td>\n",
              "      <td>-8.494172e-02</td>\n",
              "      <td>-7.698675e-02</td>\n",
              "      <td>2.759093e-02</td>\n",
              "      <td>-1.582376e-01</td>\n",
              "      <td>-3.899558e-17</td>\n",
              "      <td>-7.208499e-02</td>\n",
              "      <td>-4.870160e-02</td>\n",
              "      <td>-6.639171e-02</td>\n",
              "    </tr>\n",
              "    <tr>\n",
              "      <th>fueltype</th>\n",
              "      <td>1.923986e-01</td>\n",
              "      <td>-9.903764e-02</td>\n",
              "      <td>1.787564e-01</td>\n",
              "      <td>1.000000e+00</td>\n",
              "      <td>-5.133216e-01</td>\n",
              "      <td>2.061631e-01</td>\n",
              "      <td>-1.542727e-01</td>\n",
              "      <td>-1.554719e-01</td>\n",
              "      <td>5.376948e-02</td>\n",
              "      <td>-3.489849e-01</td>\n",
              "      <td>-2.797877e-01</td>\n",
              "      <td>-3.222813e-01</td>\n",
              "      <td>-3.208862e-01</td>\n",
              "      <td>-2.864596e-01</td>\n",
              "      <td>1.056864e-01</td>\n",
              "      <td>1.558979e-01</td>\n",
              "      <td>-2.264074e-01</td>\n",
              "      <td>2.809305e-02</td>\n",
              "      <td>-7.086963e-02</td>\n",
              "      <td>-3.296146e-01</td>\n",
              "      <td>-3.156677e-02</td>\n",
              "      <td>1.415313e-16</td>\n",
              "      <td>5.269875e-01</td>\n",
              "      <td>-2.478945e-01</td>\n",
              "      <td>-1.578877e-01</td>\n",
              "    </tr>\n",
              "    <tr>\n",
              "      <th>aspiration</th>\n",
              "      <td>-6.521759e-02</td>\n",
              "      <td>-5.139994e-03</td>\n",
              "      <td>-2.245780e-01</td>\n",
              "      <td>-5.133216e-01</td>\n",
              "      <td>1.000000e+00</td>\n",
              "      <td>-1.270765e-02</td>\n",
              "      <td>7.387326e-02</td>\n",
              "      <td>1.480390e-01</td>\n",
              "      <td>-7.383175e-02</td>\n",
              "      <td>2.925400e-01</td>\n",
              "      <td>2.439503e-01</td>\n",
              "      <td>3.750282e-01</td>\n",
              "      <td>8.328307e-02</td>\n",
              "      <td>3.562116e-01</td>\n",
              "      <td>-1.202795e-01</td>\n",
              "      <td>-1.667429e-01</td>\n",
              "      <td>3.282972e-01</td>\n",
              "      <td>2.813317e-01</td>\n",
              "      <td>1.804383e-01</td>\n",
              "      <td>3.686157e-01</td>\n",
              "      <td>-2.791509e-01</td>\n",
              "      <td>1.303355e-16</td>\n",
              "      <td>-2.296524e-01</td>\n",
              "      <td>-1.674605e-01</td>\n",
              "      <td>-2.207187e-01</td>\n",
              "    </tr>\n",
              "    <tr>\n",
              "      <th>doornumber</th>\n",
              "      <td>6.886202e-01</td>\n",
              "      <td>-1.563739e-01</td>\n",
              "      <td>2.826942e-02</td>\n",
              "      <td>2.061631e-01</td>\n",
              "      <td>-1.270765e-02</td>\n",
              "      <td>1.000000e+00</td>\n",
              "      <td>-7.020851e-01</td>\n",
              "      <td>2.691640e-02</td>\n",
              "      <td>1.824577e-01</td>\n",
              "      <td>-5.034688e-01</td>\n",
              "      <td>-4.786836e-01</td>\n",
              "      <td>-2.508284e-01</td>\n",
              "      <td>-5.962985e-01</td>\n",
              "      <td>-2.422805e-01</td>\n",
              "      <td>8.317546e-02</td>\n",
              "      <td>1.543476e-01</td>\n",
              "      <td>-1.029870e-01</td>\n",
              "      <td>2.410620e-02</td>\n",
              "      <td>-1.919781e-01</td>\n",
              "      <td>-1.036357e-01</td>\n",
              "      <td>1.343923e-01</td>\n",
              "      <td>1.113409e-16</td>\n",
              "      <td>2.531057e-01</td>\n",
              "      <td>-5.207735e-03</td>\n",
              "      <td>1.424512e-02</td>\n",
              "    </tr>\n",
              "    <tr>\n",
              "      <th>carbody</th>\n",
              "      <td>-6.101090e-01</td>\n",
              "      <td>1.340158e-01</td>\n",
              "      <td>-1.549951e-02</td>\n",
              "      <td>-1.542727e-01</td>\n",
              "      <td>7.387326e-02</td>\n",
              "      <td>-7.020851e-01</td>\n",
              "      <td>1.000000e+00</td>\n",
              "      <td>-1.317664e-01</td>\n",
              "      <td>-3.255827e-01</td>\n",
              "      <td>4.583190e-01</td>\n",
              "      <td>3.500814e-01</td>\n",
              "      <td>1.452715e-01</td>\n",
              "      <td>6.174275e-01</td>\n",
              "      <td>1.407562e-01</td>\n",
              "      <td>-9.315229e-03</td>\n",
              "      <td>-4.934482e-02</td>\n",
              "      <td>-7.580335e-02</td>\n",
              "      <td>-1.215201e-01</td>\n",
              "      <td>4.402618e-02</td>\n",
              "      <td>1.344242e-01</td>\n",
              "      <td>-1.117363e-01</td>\n",
              "      <td>-8.446084e-17</td>\n",
              "      <td>-1.162512e-01</td>\n",
              "      <td>5.842621e-02</td>\n",
              "      <td>1.039559e-02</td>\n",
              "    </tr>\n",
              "    <tr>\n",
              "      <th>drivewheel</th>\n",
              "      <td>-3.454950e-02</td>\n",
              "      <td>-7.903566e-02</td>\n",
              "      <td>-7.455291e-02</td>\n",
              "      <td>-1.554719e-01</td>\n",
              "      <td>1.480390e-01</td>\n",
              "      <td>2.691640e-02</td>\n",
              "      <td>-1.317664e-01</td>\n",
              "      <td>1.000000e+00</td>\n",
              "      <td>1.721226e-01</td>\n",
              "      <td>4.462184e-01</td>\n",
              "      <td>5.338454e-01</td>\n",
              "      <td>4.998702e-01</td>\n",
              "      <td>4.487394e-02</td>\n",
              "      <td>5.920006e-01</td>\n",
              "      <td>-1.517380e-01</td>\n",
              "      <td>2.488552e-01</td>\n",
              "      <td>4.722488e-01</td>\n",
              "      <td>5.029194e-01</td>\n",
              "      <td>4.996072e-01</td>\n",
              "      <td>-1.653913e-01</td>\n",
              "      <td>-1.735041e-02</td>\n",
              "      <td>4.540603e-17</td>\n",
              "      <td>-5.499295e-02</td>\n",
              "      <td>-4.914636e-01</td>\n",
              "      <td>-5.149849e-01</td>\n",
              "    </tr>\n",
              "    <tr>\n",
              "      <th>enginelocation</th>\n",
              "      <td>2.679080e-01</td>\n",
              "      <td>6.693429e-02</td>\n",
              "      <td>-9.465480e-03</td>\n",
              "      <td>5.376948e-02</td>\n",
              "      <td>-7.383175e-02</td>\n",
              "      <td>1.824577e-01</td>\n",
              "      <td>-3.255827e-01</td>\n",
              "      <td>1.721226e-01</td>\n",
              "      <td>1.000000e+00</td>\n",
              "      <td>-2.327322e-01</td>\n",
              "      <td>-6.831643e-02</td>\n",
              "      <td>-5.841889e-02</td>\n",
              "      <td>-1.290517e-01</td>\n",
              "      <td>5.346644e-02</td>\n",
              "      <td>1.347916e-01</td>\n",
              "      <td>1.591536e-01</td>\n",
              "      <td>3.740313e-01</td>\n",
              "      <td>1.343500e-01</td>\n",
              "      <td>2.202424e-01</td>\n",
              "      <td>-2.690512e-01</td>\n",
              "      <td>1.666458e-01</td>\n",
              "      <td>-4.706309e-17</td>\n",
              "      <td>2.466117e-01</td>\n",
              "      <td>-1.962466e-01</td>\n",
              "      <td>-1.251259e-01</td>\n",
              "    </tr>\n",
              "    <tr>\n",
              "      <th>wheelbase</th>\n",
              "      <td>-5.727159e-01</td>\n",
              "      <td>1.016694e-01</td>\n",
              "      <td>-2.057856e-01</td>\n",
              "      <td>-3.489849e-01</td>\n",
              "      <td>2.925400e-01</td>\n",
              "      <td>-5.034688e-01</td>\n",
              "      <td>4.583190e-01</td>\n",
              "      <td>4.462184e-01</td>\n",
              "      <td>-2.327322e-01</td>\n",
              "      <td>1.000000e+00</td>\n",
              "      <td>8.158272e-01</td>\n",
              "      <td>7.983379e-01</td>\n",
              "      <td>6.094135e-01</td>\n",
              "      <td>7.045652e-01</td>\n",
              "      <td>-2.293130e-01</td>\n",
              "      <td>-2.369130e-02</td>\n",
              "      <td>4.012000e-01</td>\n",
              "      <td>3.342890e-01</td>\n",
              "      <td>4.978576e-01</td>\n",
              "      <td>1.871418e-01</td>\n",
              "      <td>-1.846265e-01</td>\n",
              "      <td>-1.132156e-15</td>\n",
              "      <td>-3.497423e-01</td>\n",
              "      <td>-3.648114e-01</td>\n",
              "      <td>-4.422555e-01</td>\n",
              "    </tr>\n",
              "    <tr>\n",
              "      <th>carlength</th>\n",
              "      <td>-4.059011e-01</td>\n",
              "      <td>3.379245e-02</td>\n",
              "      <td>-6.898524e-02</td>\n",
              "      <td>-2.797877e-01</td>\n",
              "      <td>2.439503e-01</td>\n",
              "      <td>-4.786836e-01</td>\n",
              "      <td>3.500814e-01</td>\n",
              "      <td>5.338454e-01</td>\n",
              "      <td>-6.831643e-02</td>\n",
              "      <td>8.158272e-01</td>\n",
              "      <td>1.000000e+00</td>\n",
              "      <td>7.829940e-01</td>\n",
              "      <td>5.086295e-01</td>\n",
              "      <td>8.747301e-01</td>\n",
              "      <td>-1.410026e-01</td>\n",
              "      <td>-2.723885e-02</td>\n",
              "      <td>5.733414e-01</td>\n",
              "      <td>4.942615e-01</td>\n",
              "      <td>6.654348e-01</td>\n",
              "      <td>1.177309e-01</td>\n",
              "      <td>-1.973112e-01</td>\n",
              "      <td>-2.962295e-15</td>\n",
              "      <td>-3.382967e-01</td>\n",
              "      <td>-6.033090e-01</td>\n",
              "      <td>-6.526006e-01</td>\n",
              "    </tr>\n",
              "    <tr>\n",
              "      <th>carwidth</th>\n",
              "      <td>-2.888542e-01</td>\n",
              "      <td>2.538510e-02</td>\n",
              "      <td>-1.256556e-01</td>\n",
              "      <td>-3.222813e-01</td>\n",
              "      <td>3.750282e-01</td>\n",
              "      <td>-2.508284e-01</td>\n",
              "      <td>1.452715e-01</td>\n",
              "      <td>4.998702e-01</td>\n",
              "      <td>-5.841889e-02</td>\n",
              "      <td>7.983379e-01</td>\n",
              "      <td>7.829940e-01</td>\n",
              "      <td>1.000000e+00</td>\n",
              "      <td>2.878510e-01</td>\n",
              "      <td>8.232239e-01</td>\n",
              "      <td>-4.450096e-02</td>\n",
              "      <td>6.889640e-02</td>\n",
              "      <td>5.453190e-01</td>\n",
              "      <td>4.700274e-01</td>\n",
              "      <td>5.746640e-01</td>\n",
              "      <td>1.599560e-01</td>\n",
              "      <td>-1.784164e-01</td>\n",
              "      <td>-7.268437e-15</td>\n",
              "      <td>-2.790474e-01</td>\n",
              "      <td>-5.602027e-01</td>\n",
              "      <td>-6.113296e-01</td>\n",
              "    </tr>\n",
              "    <tr>\n",
              "      <th>carheight</th>\n",
              "      <td>-5.920038e-01</td>\n",
              "      <td>2.036667e-01</td>\n",
              "      <td>-1.955317e-01</td>\n",
              "      <td>-3.208862e-01</td>\n",
              "      <td>8.328307e-02</td>\n",
              "      <td>-5.962985e-01</td>\n",
              "      <td>6.174275e-01</td>\n",
              "      <td>4.487394e-02</td>\n",
              "      <td>-1.290517e-01</td>\n",
              "      <td>6.094135e-01</td>\n",
              "      <td>5.086295e-01</td>\n",
              "      <td>2.878510e-01</td>\n",
              "      <td>1.000000e+00</td>\n",
              "      <td>3.188819e-01</td>\n",
              "      <td>-1.189333e-01</td>\n",
              "      <td>-2.917234e-01</td>\n",
              "      <td>1.987653e-01</td>\n",
              "      <td>-4.629287e-02</td>\n",
              "      <td>2.388462e-01</td>\n",
              "      <td>1.039035e-01</td>\n",
              "      <td>-5.277127e-02</td>\n",
              "      <td>1.845860e-14</td>\n",
              "      <td>-3.277805e-01</td>\n",
              "      <td>6.382162e-03</td>\n",
              "      <td>-5.560805e-02</td>\n",
              "    </tr>\n",
              "    <tr>\n",
              "      <th>curbweight</th>\n",
              "      <td>-2.539860e-01</td>\n",
              "      <td>-8.746131e-02</td>\n",
              "      <td>-2.465705e-02</td>\n",
              "      <td>-2.864596e-01</td>\n",
              "      <td>3.562116e-01</td>\n",
              "      <td>-2.422805e-01</td>\n",
              "      <td>1.407562e-01</td>\n",
              "      <td>5.920006e-01</td>\n",
              "      <td>5.346644e-02</td>\n",
              "      <td>7.045652e-01</td>\n",
              "      <td>8.747301e-01</td>\n",
              "      <td>8.232239e-01</td>\n",
              "      <td>3.188819e-01</td>\n",
              "      <td>1.000000e+00</td>\n",
              "      <td>-7.678424e-02</td>\n",
              "      <td>4.569381e-02</td>\n",
              "      <td>6.736600e-01</td>\n",
              "      <td>5.698142e-01</td>\n",
              "      <td>6.537729e-01</td>\n",
              "      <td>1.040292e-01</td>\n",
              "      <td>-2.579440e-01</td>\n",
              "      <td>-3.137802e-16</td>\n",
              "      <td>-3.139863e-01</td>\n",
              "      <td>-7.229859e-01</td>\n",
              "      <td>-7.780285e-01</td>\n",
              "    </tr>\n",
              "    <tr>\n",
              "      <th>enginetype</th>\n",
              "      <td>7.617039e-02</td>\n",
              "      <td>-3.360415e-02</td>\n",
              "      <td>-4.158308e-02</td>\n",
              "      <td>1.056864e-01</td>\n",
              "      <td>-1.202795e-01</td>\n",
              "      <td>8.317546e-02</td>\n",
              "      <td>-9.315229e-03</td>\n",
              "      <td>-1.517380e-01</td>\n",
              "      <td>1.347916e-01</td>\n",
              "      <td>-2.293130e-01</td>\n",
              "      <td>-1.410026e-01</td>\n",
              "      <td>-4.450096e-02</td>\n",
              "      <td>-1.189333e-01</td>\n",
              "      <td>-7.678424e-02</td>\n",
              "      <td>1.000000e+00</td>\n",
              "      <td>3.078879e-01</td>\n",
              "      <td>-1.113548e-02</td>\n",
              "      <td>-1.048881e-01</td>\n",
              "      <td>6.323618e-03</td>\n",
              "      <td>2.923271e-02</td>\n",
              "      <td>3.716067e-02</td>\n",
              "      <td>1.798080e-16</td>\n",
              "      <td>1.554113e-01</td>\n",
              "      <td>-1.037387e-01</td>\n",
              "      <td>-6.451704e-02</td>\n",
              "    </tr>\n",
              "    <tr>\n",
              "      <th>cylindernumber</th>\n",
              "      <td>2.179539e-01</td>\n",
              "      <td>2.303783e-02</td>\n",
              "      <td>1.010400e-01</td>\n",
              "      <td>1.558979e-01</td>\n",
              "      <td>-1.667429e-01</td>\n",
              "      <td>1.543476e-01</td>\n",
              "      <td>-4.934482e-02</td>\n",
              "      <td>2.488552e-01</td>\n",
              "      <td>1.591536e-01</td>\n",
              "      <td>-2.369130e-02</td>\n",
              "      <td>-2.723885e-02</td>\n",
              "      <td>6.889640e-02</td>\n",
              "      <td>-2.917234e-01</td>\n",
              "      <td>4.569381e-02</td>\n",
              "      <td>3.078879e-01</td>\n",
              "      <td>1.000000e+00</td>\n",
              "      <td>-3.819048e-02</td>\n",
              "      <td>1.010210e-01</td>\n",
              "      <td>1.964301e-02</td>\n",
              "      <td>-2.034317e-01</td>\n",
              "      <td>1.361040e-01</td>\n",
              "      <td>-1.556214e-16</td>\n",
              "      <td>2.915073e-01</td>\n",
              "      <td>-2.815301e-01</td>\n",
              "      <td>-2.226138e-01</td>\n",
              "    </tr>\n",
              "    <tr>\n",
              "      <th>enginesize</th>\n",
              "      <td>-9.899893e-02</td>\n",
              "      <td>8.920170e-03</td>\n",
              "      <td>-9.710588e-02</td>\n",
              "      <td>-2.264074e-01</td>\n",
              "      <td>3.282972e-01</td>\n",
              "      <td>-1.029870e-01</td>\n",
              "      <td>-7.580335e-02</td>\n",
              "      <td>4.722488e-01</td>\n",
              "      <td>3.740313e-01</td>\n",
              "      <td>4.012000e-01</td>\n",
              "      <td>5.733414e-01</td>\n",
              "      <td>5.453190e-01</td>\n",
              "      <td>1.987653e-01</td>\n",
              "      <td>6.736600e-01</td>\n",
              "      <td>-1.113548e-02</td>\n",
              "      <td>-3.819048e-02</td>\n",
              "      <td>1.000000e+00</td>\n",
              "      <td>5.028967e-01</td>\n",
              "      <td>6.019873e-01</td>\n",
              "      <td>1.603896e-01</td>\n",
              "      <td>-3.971120e-02</td>\n",
              "      <td>1.840839e-16</td>\n",
              "      <td>-2.396170e-01</td>\n",
              "      <td>-5.624797e-01</td>\n",
              "      <td>-5.637943e-01</td>\n",
              "    </tr>\n",
              "    <tr>\n",
              "      <th>fuelsystem</th>\n",
              "      <td>6.763292e-02</td>\n",
              "      <td>6.158360e-02</td>\n",
              "      <td>-8.494172e-02</td>\n",
              "      <td>2.809305e-02</td>\n",
              "      <td>2.813317e-01</td>\n",
              "      <td>2.410620e-02</td>\n",
              "      <td>-1.215201e-01</td>\n",
              "      <td>5.029194e-01</td>\n",
              "      <td>1.343500e-01</td>\n",
              "      <td>3.342890e-01</td>\n",
              "      <td>4.942615e-01</td>\n",
              "      <td>4.700274e-01</td>\n",
              "      <td>-4.629287e-02</td>\n",
              "      <td>5.698142e-01</td>\n",
              "      <td>-1.048881e-01</td>\n",
              "      <td>1.010210e-01</td>\n",
              "      <td>5.028967e-01</td>\n",
              "      <td>1.000000e+00</td>\n",
              "      <td>4.483868e-01</td>\n",
              "      <td>-3.932474e-02</td>\n",
              "      <td>-2.919331e-01</td>\n",
              "      <td>-2.547365e-16</td>\n",
              "      <td>1.189764e-02</td>\n",
              "      <td>-6.673161e-01</td>\n",
              "      <td>-6.383285e-01</td>\n",
              "    </tr>\n",
              "    <tr>\n",
              "      <th>boreratio</th>\n",
              "      <td>-1.402890e-01</td>\n",
              "      <td>1.810812e-01</td>\n",
              "      <td>-7.698675e-02</td>\n",
              "      <td>-7.086963e-02</td>\n",
              "      <td>1.804383e-01</td>\n",
              "      <td>-1.919781e-01</td>\n",
              "      <td>4.402618e-02</td>\n",
              "      <td>4.996072e-01</td>\n",
              "      <td>2.202424e-01</td>\n",
              "      <td>4.978576e-01</td>\n",
              "      <td>6.654348e-01</td>\n",
              "      <td>5.746640e-01</td>\n",
              "      <td>2.388462e-01</td>\n",
              "      <td>6.537729e-01</td>\n",
              "      <td>6.323618e-03</td>\n",
              "      <td>1.964301e-02</td>\n",
              "      <td>6.019873e-01</td>\n",
              "      <td>4.483868e-01</td>\n",
              "      <td>1.000000e+00</td>\n",
              "      <td>-5.385064e-02</td>\n",
              "      <td>-6.756744e-02</td>\n",
              "      <td>-9.858540e-16</td>\n",
              "      <td>-2.665833e-01</td>\n",
              "      <td>-5.926728e-01</td>\n",
              "      <td>-6.051675e-01</td>\n",
              "    </tr>\n",
              "    <tr>\n",
              "      <th>stroke</th>\n",
              "      <td>-1.091199e-01</td>\n",
              "      <td>-9.285031e-02</td>\n",
              "      <td>2.759093e-02</td>\n",
              "      <td>-3.296146e-01</td>\n",
              "      <td>3.686157e-01</td>\n",
              "      <td>-1.036357e-01</td>\n",
              "      <td>1.344242e-01</td>\n",
              "      <td>-1.653913e-01</td>\n",
              "      <td>-2.690512e-01</td>\n",
              "      <td>1.871418e-01</td>\n",
              "      <td>1.177309e-01</td>\n",
              "      <td>1.599560e-01</td>\n",
              "      <td>1.039035e-01</td>\n",
              "      <td>1.040292e-01</td>\n",
              "      <td>2.923271e-02</td>\n",
              "      <td>-2.034317e-01</td>\n",
              "      <td>1.603896e-01</td>\n",
              "      <td>-3.932474e-02</td>\n",
              "      <td>-5.385064e-02</td>\n",
              "      <td>1.000000e+00</td>\n",
              "      <td>-2.003559e-01</td>\n",
              "      <td>-7.970887e-15</td>\n",
              "      <td>-2.275412e-01</td>\n",
              "      <td>2.842707e-02</td>\n",
              "      <td>-1.386595e-02</td>\n",
              "    </tr>\n",
              "    <tr>\n",
              "      <th>compressionratio</th>\n",
              "      <td>1.514448e-01</td>\n",
              "      <td>1.433414e-01</td>\n",
              "      <td>-1.582376e-01</td>\n",
              "      <td>-3.156677e-02</td>\n",
              "      <td>-2.791509e-01</td>\n",
              "      <td>1.343923e-01</td>\n",
              "      <td>-1.117363e-01</td>\n",
              "      <td>-1.735041e-02</td>\n",
              "      <td>1.666458e-01</td>\n",
              "      <td>-1.846265e-01</td>\n",
              "      <td>-1.973112e-01</td>\n",
              "      <td>-1.784164e-01</td>\n",
              "      <td>-5.277127e-02</td>\n",
              "      <td>-2.579440e-01</td>\n",
              "      <td>3.716067e-02</td>\n",
              "      <td>1.361040e-01</td>\n",
              "      <td>-3.971120e-02</td>\n",
              "      <td>-2.919331e-01</td>\n",
              "      <td>-6.756744e-02</td>\n",
              "      <td>-2.003559e-01</td>\n",
              "      <td>1.000000e+00</td>\n",
              "      <td>-1.026353e-15</td>\n",
              "      <td>1.425978e-01</td>\n",
              "      <td>3.546551e-01</td>\n",
              "      <td>3.277305e-01</td>\n",
              "    </tr>\n",
              "    <tr>\n",
              "      <th>horsepower</th>\n",
              "      <td>3.976780e-17</td>\n",
              "      <td>7.924254e-17</td>\n",
              "      <td>-3.899558e-17</td>\n",
              "      <td>1.415313e-16</td>\n",
              "      <td>1.303355e-16</td>\n",
              "      <td>1.113409e-16</td>\n",
              "      <td>-8.446084e-17</td>\n",
              "      <td>4.540603e-17</td>\n",
              "      <td>-4.706309e-17</td>\n",
              "      <td>-1.132156e-15</td>\n",
              "      <td>-2.962295e-15</td>\n",
              "      <td>-7.268437e-15</td>\n",
              "      <td>1.845860e-14</td>\n",
              "      <td>-3.137802e-16</td>\n",
              "      <td>1.798080e-16</td>\n",
              "      <td>-1.556214e-16</td>\n",
              "      <td>1.840839e-16</td>\n",
              "      <td>-2.547365e-16</td>\n",
              "      <td>-9.858540e-16</td>\n",
              "      <td>-7.970887e-15</td>\n",
              "      <td>-1.026353e-15</td>\n",
              "      <td>1.000000e+00</td>\n",
              "      <td>-1.335733e-17</td>\n",
              "      <td>-1.744020e-16</td>\n",
              "      <td>-9.367905e-17</td>\n",
              "    </tr>\n",
              "    <tr>\n",
              "      <th>peakrpm</th>\n",
              "      <td>2.546148e-01</td>\n",
              "      <td>-1.943367e-01</td>\n",
              "      <td>-7.208499e-02</td>\n",
              "      <td>5.269875e-01</td>\n",
              "      <td>-2.296524e-01</td>\n",
              "      <td>2.531057e-01</td>\n",
              "      <td>-1.162512e-01</td>\n",
              "      <td>-5.499295e-02</td>\n",
              "      <td>2.466117e-01</td>\n",
              "      <td>-3.497423e-01</td>\n",
              "      <td>-3.382967e-01</td>\n",
              "      <td>-2.790474e-01</td>\n",
              "      <td>-3.277805e-01</td>\n",
              "      <td>-3.139863e-01</td>\n",
              "      <td>1.554113e-01</td>\n",
              "      <td>2.915073e-01</td>\n",
              "      <td>-2.396170e-01</td>\n",
              "      <td>1.189764e-02</td>\n",
              "      <td>-2.665833e-01</td>\n",
              "      <td>-2.275412e-01</td>\n",
              "      <td>1.425978e-01</td>\n",
              "      <td>-1.335733e-17</td>\n",
              "      <td>1.000000e+00</td>\n",
              "      <td>-1.249502e-01</td>\n",
              "      <td>-3.646849e-02</td>\n",
              "    </tr>\n",
              "    <tr>\n",
              "      <th>citympg</th>\n",
              "      <td>-5.251590e-02</td>\n",
              "      <td>1.954595e-01</td>\n",
              "      <td>-4.870160e-02</td>\n",
              "      <td>-2.478945e-01</td>\n",
              "      <td>-1.674605e-01</td>\n",
              "      <td>-5.207735e-03</td>\n",
              "      <td>5.842621e-02</td>\n",
              "      <td>-4.914636e-01</td>\n",
              "      <td>-1.962466e-01</td>\n",
              "      <td>-3.648114e-01</td>\n",
              "      <td>-6.033090e-01</td>\n",
              "      <td>-5.602027e-01</td>\n",
              "      <td>6.382162e-03</td>\n",
              "      <td>-7.229859e-01</td>\n",
              "      <td>-1.037387e-01</td>\n",
              "      <td>-2.815301e-01</td>\n",
              "      <td>-5.624797e-01</td>\n",
              "      <td>-6.673161e-01</td>\n",
              "      <td>-5.926728e-01</td>\n",
              "      <td>2.842707e-02</td>\n",
              "      <td>3.546551e-01</td>\n",
              "      <td>-1.744020e-16</td>\n",
              "      <td>-1.249502e-01</td>\n",
              "      <td>1.000000e+00</td>\n",
              "      <td>9.663979e-01</td>\n",
              "    </tr>\n",
              "    <tr>\n",
              "      <th>highwaympg</th>\n",
              "      <td>2.907300e-02</td>\n",
              "      <td>1.889938e-01</td>\n",
              "      <td>-6.639171e-02</td>\n",
              "      <td>-1.578877e-01</td>\n",
              "      <td>-2.207187e-01</td>\n",
              "      <td>1.424512e-02</td>\n",
              "      <td>1.039559e-02</td>\n",
              "      <td>-5.149849e-01</td>\n",
              "      <td>-1.251259e-01</td>\n",
              "      <td>-4.422555e-01</td>\n",
              "      <td>-6.526006e-01</td>\n",
              "      <td>-6.113296e-01</td>\n",
              "      <td>-5.560805e-02</td>\n",
              "      <td>-7.780285e-01</td>\n",
              "      <td>-6.451704e-02</td>\n",
              "      <td>-2.226138e-01</td>\n",
              "      <td>-5.637943e-01</td>\n",
              "      <td>-6.383285e-01</td>\n",
              "      <td>-6.051675e-01</td>\n",
              "      <td>-1.386595e-02</td>\n",
              "      <td>3.277305e-01</td>\n",
              "      <td>-9.367905e-17</td>\n",
              "      <td>-3.646849e-02</td>\n",
              "      <td>9.663979e-01</td>\n",
              "      <td>1.000000e+00</td>\n",
              "    </tr>\n",
              "  </tbody>\n",
              "</table>\n",
              "</div>"
            ],
            "text/plain": [
              "                     symboling   CompanyName  ...       citympg    highwaympg\n",
              "symboling         1.000000e+00 -1.441980e-01  ... -5.251590e-02  2.907300e-02\n",
              "CompanyName      -1.441980e-01  1.000000e+00  ...  1.954595e-01  1.889938e-01\n",
              "CarName           1.058395e-01 -1.353611e-01  ... -4.870160e-02 -6.639171e-02\n",
              "fueltype          1.923986e-01 -9.903764e-02  ... -2.478945e-01 -1.578877e-01\n",
              "aspiration       -6.521759e-02 -5.139994e-03  ... -1.674605e-01 -2.207187e-01\n",
              "doornumber        6.886202e-01 -1.563739e-01  ... -5.207735e-03  1.424512e-02\n",
              "carbody          -6.101090e-01  1.340158e-01  ...  5.842621e-02  1.039559e-02\n",
              "drivewheel       -3.454950e-02 -7.903566e-02  ... -4.914636e-01 -5.149849e-01\n",
              "enginelocation    2.679080e-01  6.693429e-02  ... -1.962466e-01 -1.251259e-01\n",
              "wheelbase        -5.727159e-01  1.016694e-01  ... -3.648114e-01 -4.422555e-01\n",
              "carlength        -4.059011e-01  3.379245e-02  ... -6.033090e-01 -6.526006e-01\n",
              "carwidth         -2.888542e-01  2.538510e-02  ... -5.602027e-01 -6.113296e-01\n",
              "carheight        -5.920038e-01  2.036667e-01  ...  6.382162e-03 -5.560805e-02\n",
              "curbweight       -2.539860e-01 -8.746131e-02  ... -7.229859e-01 -7.780285e-01\n",
              "enginetype        7.617039e-02 -3.360415e-02  ... -1.037387e-01 -6.451704e-02\n",
              "cylindernumber    2.179539e-01  2.303783e-02  ... -2.815301e-01 -2.226138e-01\n",
              "enginesize       -9.899893e-02  8.920170e-03  ... -5.624797e-01 -5.637943e-01\n",
              "fuelsystem        6.763292e-02  6.158360e-02  ... -6.673161e-01 -6.383285e-01\n",
              "boreratio        -1.402890e-01  1.810812e-01  ... -5.926728e-01 -6.051675e-01\n",
              "stroke           -1.091199e-01 -9.285031e-02  ...  2.842707e-02 -1.386595e-02\n",
              "compressionratio  1.514448e-01  1.433414e-01  ...  3.546551e-01  3.277305e-01\n",
              "horsepower        3.976780e-17  7.924254e-17  ... -1.744020e-16 -9.367905e-17\n",
              "peakrpm           2.546148e-01 -1.943367e-01  ... -1.249502e-01 -3.646849e-02\n",
              "citympg          -5.251590e-02  1.954595e-01  ...  1.000000e+00  9.663979e-01\n",
              "highwaympg        2.907300e-02  1.889938e-01  ...  9.663979e-01  1.000000e+00\n",
              "\n",
              "[25 rows x 25 columns]"
            ]
          },
          "metadata": {},
          "execution_count": 33
        }
      ]
    },
    {
      "cell_type": "code",
      "metadata": {
        "id": "o5xbE8IGDE1G",
        "colab": {
          "base_uri": "https://localhost:8080/",
          "height": 780
        },
        "outputId": "6088e778-52a2-49b5-dfe5-b57a03e8c010"
      },
      "source": [
        "import seaborn as sns\n",
        "#Using Pearson Correlation\n",
        "plt.figure(figsize=(20,12))\n",
        "cor = X_train.corr()\n",
        "sns.heatmap(cor, annot=True, cmap=plt.cm.CMRmap_r)\n",
        "plt.show()"
      ],
      "execution_count": null,
      "outputs": [
        {
          "output_type": "display_data",
          "data": {
            "image/png": "[encoded data removed]",
            "text/plain": [
              "<Figure size 1440x864 with 2 Axes>"
            ]
          },
          "metadata": {
            "needs_background": "light"
          }
        }
      ]
    },
    {
      "cell_type": "code",
      "metadata": {
        "id": "47pwtpKBDRnO"
      },
      "source": [
        "# with the following function we can select highly correlated features\n",
        "# it will remove the first feature that is correlated with anything other feature\n",
        "\n",
        "def correlation(dataset, threshold):\n",
        "    col_corr = set()  # Set of all the names of correlated columns\n",
        "    corr_matrix = dataset.corr()\n",
        "    for i in range(len(corr_matrix.columns)):\n",
        "        for j in range(i):\n",
        "            if abs(corr_matrix.iloc[i, j]) > threshold: # we are interested in absolute coeff value\n",
        "                colname = corr_matrix.columns[i]  # getting the name of column\n",
        "                col_corr.add(colname)\n",
        "    return col_corr"
      ],
      "execution_count": null,
      "outputs": []
    },
    {
      "cell_type": "code",
      "metadata": {
        "id": "Wx4BkFhUDnVE",
        "colab": {
          "base_uri": "https://localhost:8080/"
        },
        "outputId": "5bc47899-4752-4710-8b76-8dca4b069309"
      },
      "source": [
        "corr_features = correlation(X_train, 0.7)\n",
        "len(set(corr_features))"
      ],
      "execution_count": null,
      "outputs": [
        {
          "output_type": "execute_result",
          "data": {
            "text/plain": [
              "6"
            ]
          },
          "metadata": {},
          "execution_count": 36
        }
      ]
    },
    {
      "cell_type": "code",
      "metadata": {
        "id": "O4KYrMdSDpfK",
        "colab": {
          "base_uri": "https://localhost:8080/"
        },
        "outputId": "ce6e3ef4-d339-4ede-e383-b5910157438c"
      },
      "source": [
        "corr_features"
      ],
      "execution_count": null,
      "outputs": [
        {
          "output_type": "execute_result",
          "data": {
            "text/plain": [
              "{'carbody', 'carlength', 'carwidth', 'citympg', 'curbweight', 'highwaympg'}"
            ]
          },
          "metadata": {},
          "execution_count": 37
        }
      ]
    },
    {
      "cell_type": "code",
      "metadata": {
        "id": "g73dsHvbDruy",
        "colab": {
          "base_uri": "https://localhost:8080/",
          "height": 475
        },
        "outputId": "34c1264f-af1b-4b75-c4ac-d1734d479a85"
      },
      "source": [
        "X_train.drop(corr_features,axis=1)\n",
        "X_test.drop(corr_features,axis=1)\n"
      ],
      "execution_count": null,
      "outputs": [
        {
          "output_type": "execute_result",
          "data": {
            "text/html": [
              "<div>\n",
              "<style scoped>\n",
              "    .dataframe tbody tr th:only-of-type {\n",
              "        vertical-align: middle;\n",
              "    }\n",
              "\n",
              "    .dataframe tbody tr th {\n",
              "        vertical-align: top;\n",
              "    }\n",
              "\n",
              "    .dataframe thead th {\n",
              "        text-align: right;\n",
              "    }\n",
              "</style>\n",
              "<table border=\"1\" class=\"dataframe\">\n",
              "  <thead>\n",
              "    <tr style=\"text-align: right;\">\n",
              "      <th></th>\n",
              "      <th>symboling</th>\n",
              "      <th>CompanyName</th>\n",
              "      <th>CarName</th>\n",
              "      <th>fueltype</th>\n",
              "      <th>aspiration</th>\n",
              "      <th>doornumber</th>\n",
              "      <th>drivewheel</th>\n",
              "      <th>enginelocation</th>\n",
              "      <th>wheelbase</th>\n",
              "      <th>carheight</th>\n",
              "      <th>enginetype</th>\n",
              "      <th>cylindernumber</th>\n",
              "      <th>enginesize</th>\n",
              "      <th>fuelsystem</th>\n",
              "      <th>boreratio</th>\n",
              "      <th>stroke</th>\n",
              "      <th>compressionratio</th>\n",
              "      <th>horsepower</th>\n",
              "      <th>peakrpm</th>\n",
              "    </tr>\n",
              "    <tr>\n",
              "      <th>car_ID</th>\n",
              "      <th></th>\n",
              "      <th></th>\n",
              "      <th></th>\n",
              "      <th></th>\n",
              "      <th></th>\n",
              "      <th></th>\n",
              "      <th></th>\n",
              "      <th></th>\n",
              "      <th></th>\n",
              "      <th></th>\n",
              "      <th></th>\n",
              "      <th></th>\n",
              "      <th></th>\n",
              "      <th></th>\n",
              "      <th></th>\n",
              "      <th></th>\n",
              "      <th></th>\n",
              "      <th></th>\n",
              "      <th></th>\n",
              "    </tr>\n",
              "  </thead>\n",
              "  <tbody>\n",
              "    <tr>\n",
              "      <th>53</th>\n",
              "      <td>1</td>\n",
              "      <td>9</td>\n",
              "      <td>45</td>\n",
              "      <td>1</td>\n",
              "      <td>0</td>\n",
              "      <td>1</td>\n",
              "      <td>1</td>\n",
              "      <td>0</td>\n",
              "      <td>93.1</td>\n",
              "      <td>54.1</td>\n",
              "      <td>3</td>\n",
              "      <td>2</td>\n",
              "      <td>91.0</td>\n",
              "      <td>1</td>\n",
              "      <td>3.03</td>\n",
              "      <td>3.150000</td>\n",
              "      <td>9.0</td>\n",
              "      <td>96.94964</td>\n",
              "      <td>5000.0</td>\n",
              "    </tr>\n",
              "    <tr>\n",
              "      <th>182</th>\n",
              "      <td>-1</td>\n",
              "      <td>19</td>\n",
              "      <td>106</td>\n",
              "      <td>1</td>\n",
              "      <td>0</td>\n",
              "      <td>0</td>\n",
              "      <td>2</td>\n",
              "      <td>0</td>\n",
              "      <td>104.5</td>\n",
              "      <td>54.1</td>\n",
              "      <td>0</td>\n",
              "      <td>3</td>\n",
              "      <td>161.0</td>\n",
              "      <td>5</td>\n",
              "      <td>3.27</td>\n",
              "      <td>3.350000</td>\n",
              "      <td>9.2</td>\n",
              "      <td>96.94964</td>\n",
              "      <td>5200.0</td>\n",
              "    </tr>\n",
              "    <tr>\n",
              "      <th>6</th>\n",
              "      <td>2</td>\n",
              "      <td>1</td>\n",
              "      <td>57</td>\n",
              "      <td>1</td>\n",
              "      <td>0</td>\n",
              "      <td>1</td>\n",
              "      <td>1</td>\n",
              "      <td>0</td>\n",
              "      <td>99.8</td>\n",
              "      <td>53.1</td>\n",
              "      <td>3</td>\n",
              "      <td>1</td>\n",
              "      <td>136.0</td>\n",
              "      <td>5</td>\n",
              "      <td>3.19</td>\n",
              "      <td>3.400000</td>\n",
              "      <td>8.5</td>\n",
              "      <td>96.94964</td>\n",
              "      <td>5500.0</td>\n",
              "    </tr>\n",
              "    <tr>\n",
              "      <th>19</th>\n",
              "      <td>2</td>\n",
              "      <td>4</td>\n",
              "      <td>70</td>\n",
              "      <td>1</td>\n",
              "      <td>0</td>\n",
              "      <td>1</td>\n",
              "      <td>1</td>\n",
              "      <td>0</td>\n",
              "      <td>88.4</td>\n",
              "      <td>53.2</td>\n",
              "      <td>2</td>\n",
              "      <td>4</td>\n",
              "      <td>61.0</td>\n",
              "      <td>1</td>\n",
              "      <td>2.91</td>\n",
              "      <td>3.030000</td>\n",
              "      <td>9.5</td>\n",
              "      <td>96.94964</td>\n",
              "      <td>5100.0</td>\n",
              "    </tr>\n",
              "    <tr>\n",
              "      <th>189</th>\n",
              "      <td>2</td>\n",
              "      <td>20</td>\n",
              "      <td>51</td>\n",
              "      <td>1</td>\n",
              "      <td>0</td>\n",
              "      <td>0</td>\n",
              "      <td>1</td>\n",
              "      <td>0</td>\n",
              "      <td>97.3</td>\n",
              "      <td>55.7</td>\n",
              "      <td>3</td>\n",
              "      <td>2</td>\n",
              "      <td>109.0</td>\n",
              "      <td>5</td>\n",
              "      <td>3.19</td>\n",
              "      <td>3.400000</td>\n",
              "      <td>10.0</td>\n",
              "      <td>96.94964</td>\n",
              "      <td>5500.0</td>\n",
              "    </tr>\n",
              "    <tr>\n",
              "      <th>...</th>\n",
              "      <td>...</td>\n",
              "      <td>...</td>\n",
              "      <td>...</td>\n",
              "      <td>...</td>\n",
              "      <td>...</td>\n",
              "      <td>...</td>\n",
              "      <td>...</td>\n",
              "      <td>...</td>\n",
              "      <td>...</td>\n",
              "      <td>...</td>\n",
              "      <td>...</td>\n",
              "      <td>...</td>\n",
              "      <td>...</td>\n",
              "      <td>...</td>\n",
              "      <td>...</td>\n",
              "      <td>...</td>\n",
              "      <td>...</td>\n",
              "      <td>...</td>\n",
              "      <td>...</td>\n",
              "    </tr>\n",
              "    <tr>\n",
              "      <th>199</th>\n",
              "      <td>-2</td>\n",
              "      <td>21</td>\n",
              "      <td>15</td>\n",
              "      <td>1</td>\n",
              "      <td>1</td>\n",
              "      <td>0</td>\n",
              "      <td>2</td>\n",
              "      <td>0</td>\n",
              "      <td>104.3</td>\n",
              "      <td>56.2</td>\n",
              "      <td>3</td>\n",
              "      <td>2</td>\n",
              "      <td>130.0</td>\n",
              "      <td>5</td>\n",
              "      <td>3.62</td>\n",
              "      <td>3.150000</td>\n",
              "      <td>7.5</td>\n",
              "      <td>96.94964</td>\n",
              "      <td>5100.0</td>\n",
              "    </tr>\n",
              "    <tr>\n",
              "      <th>144</th>\n",
              "      <td>0</td>\n",
              "      <td>18</td>\n",
              "      <td>32</td>\n",
              "      <td>1</td>\n",
              "      <td>0</td>\n",
              "      <td>0</td>\n",
              "      <td>1</td>\n",
              "      <td>0</td>\n",
              "      <td>97.2</td>\n",
              "      <td>52.5</td>\n",
              "      <td>4</td>\n",
              "      <td>2</td>\n",
              "      <td>108.0</td>\n",
              "      <td>5</td>\n",
              "      <td>3.62</td>\n",
              "      <td>3.266187</td>\n",
              "      <td>9.0</td>\n",
              "      <td>96.94964</td>\n",
              "      <td>5200.0</td>\n",
              "    </tr>\n",
              "    <tr>\n",
              "      <th>25</th>\n",
              "      <td>1</td>\n",
              "      <td>5</td>\n",
              "      <td>3</td>\n",
              "      <td>1</td>\n",
              "      <td>0</td>\n",
              "      <td>0</td>\n",
              "      <td>1</td>\n",
              "      <td>0</td>\n",
              "      <td>93.7</td>\n",
              "      <td>50.6</td>\n",
              "      <td>3</td>\n",
              "      <td>2</td>\n",
              "      <td>90.0</td>\n",
              "      <td>1</td>\n",
              "      <td>2.97</td>\n",
              "      <td>3.230000</td>\n",
              "      <td>9.4</td>\n",
              "      <td>96.94964</td>\n",
              "      <td>5500.0</td>\n",
              "    </tr>\n",
              "    <tr>\n",
              "      <th>31</th>\n",
              "      <td>2</td>\n",
              "      <td>6</td>\n",
              "      <td>40</td>\n",
              "      <td>1</td>\n",
              "      <td>0</td>\n",
              "      <td>1</td>\n",
              "      <td>1</td>\n",
              "      <td>0</td>\n",
              "      <td>86.6</td>\n",
              "      <td>50.8</td>\n",
              "      <td>3</td>\n",
              "      <td>2</td>\n",
              "      <td>92.0</td>\n",
              "      <td>0</td>\n",
              "      <td>2.91</td>\n",
              "      <td>3.410000</td>\n",
              "      <td>9.6</td>\n",
              "      <td>96.94964</td>\n",
              "      <td>4800.0</td>\n",
              "    </tr>\n",
              "    <tr>\n",
              "      <th>136</th>\n",
              "      <td>2</td>\n",
              "      <td>17</td>\n",
              "      <td>26</td>\n",
              "      <td>1</td>\n",
              "      <td>0</td>\n",
              "      <td>0</td>\n",
              "      <td>1</td>\n",
              "      <td>0</td>\n",
              "      <td>99.1</td>\n",
              "      <td>56.1</td>\n",
              "      <td>3</td>\n",
              "      <td>2</td>\n",
              "      <td>121.0</td>\n",
              "      <td>5</td>\n",
              "      <td>3.54</td>\n",
              "      <td>3.070000</td>\n",
              "      <td>9.3</td>\n",
              "      <td>96.94964</td>\n",
              "      <td>5250.0</td>\n",
              "    </tr>\n",
              "  </tbody>\n",
              "</table>\n",
              "<p>62 rows × 19 columns</p>\n",
              "</div>"
            ],
            "text/plain": [
              "        symboling  CompanyName  CarName  ...  compressionratio  horsepower  peakrpm\n",
              "car_ID                                   ...                                       \n",
              "53              1            9       45  ...               9.0    96.94964   5000.0\n",
              "182            -1           19      106  ...               9.2    96.94964   5200.0\n",
              "6               2            1       57  ...               8.5    96.94964   5500.0\n",
              "19              2            4       70  ...               9.5    96.94964   5100.0\n",
              "189             2           20       51  ...              10.0    96.94964   5500.0\n",
              "...           ...          ...      ...  ...               ...         ...      ...\n",
              "199            -2           21       15  ...               7.5    96.94964   5100.0\n",
              "144             0           18       32  ...               9.0    96.94964   5200.0\n",
              "25              1            5        3  ...               9.4    96.94964   5500.0\n",
              "31              2            6       40  ...               9.6    96.94964   4800.0\n",
              "136             2           17       26  ...               9.3    96.94964   5250.0\n",
              "\n",
              "[62 rows x 19 columns]"
            ]
          },
          "metadata": {},
          "execution_count": 38
        }
      ]
    },
    {
      "cell_type": "code",
      "source": [
        ""
      ],
      "metadata": {
        "id": "Asj46D6b7cPr"
      },
      "execution_count": null,
      "outputs": []
    },
    {
      "cell_type": "markdown",
      "metadata": {
        "id": "YCa1MAhoosRN"
      },
      "source": [
        "# **Hypothesis Testing**"
      ]
    },
    {
      "cell_type": "code",
      "source": [
        "s_ztest = df.sample(n=60, random_state=1)\n",
        "\n",
        "print(\"Sample ztest mean\")\n",
        "\n",
        "print(s_ztest.mean())\n",
        "\n",
        "print(\"\\nSample ztest SD\")\n",
        "\n",
        "print(s_ztest.std())"
      ],
      "metadata": {
        "colab": {
          "base_uri": "https://localhost:8080/"
        },
        "id": "8QNMe6qYTqPc",
        "outputId": "174b1678-9506-409f-8ef3-f7b7e9007882"
      },
      "execution_count": null,
      "outputs": [
        {
          "output_type": "stream",
          "name": "stdout",
          "text": [
            "Sample ztest mean\n",
            "symboling               0.850000\n",
            "CompanyName            11.783333\n",
            "CarName                53.733333\n",
            "fueltype                0.883333\n",
            "aspiration              0.200000\n",
            "doornumber              0.516667\n",
            "carbody                 2.550000\n",
            "drivewheel              1.300000\n",
            "enginelocation          0.000000\n",
            "wheelbase              98.387470\n",
            "carlength             173.019820\n",
            "carwidth               65.499916\n",
            "carheight              53.801667\n",
            "curbweight           2507.583333\n",
            "enginetype              3.016667\n",
            "cylindernumber          2.100000\n",
            "enginesize            117.017506\n",
            "fuelsystem              3.000000\n",
            "boreratio               3.311333\n",
            "stroke                  3.323369\n",
            "compressionratio        8.916894\n",
            "horsepower             96.949640\n",
            "peakrpm              5115.833333\n",
            "citympg                25.945444\n",
            "highwaympg             31.202278\n",
            "price               12660.958333\n",
            "dtype: float64\n",
            "\n",
            "Sample ztest SD\n",
            "symboling           1.117276e+00\n",
            "CompanyName         6.340859e+00\n",
            "CarName             3.410446e+01\n",
            "fueltype            3.237318e-01\n",
            "aspiration          4.033756e-01\n",
            "doornumber          5.039393e-01\n",
            "carbody             8.114645e-01\n",
            "drivewheel          5.304300e-01\n",
            "enginelocation      0.000000e+00\n",
            "wheelbase           5.579739e+00\n",
            "carlength           1.318645e+01\n",
            "carwidth            1.973906e+00\n",
            "carheight           2.188064e+00\n",
            "curbweight          5.563180e+02\n",
            "enginetype          8.923719e-01\n",
            "cylindernumber      7.295227e-01\n",
            "enginesize          2.791397e+01\n",
            "fuelsystem          2.074870e+00\n",
            "boreratio           2.736165e-01\n",
            "stroke              1.934617e-01\n",
            "compressionratio    4.759256e-01\n",
            "horsepower          8.598468e-14\n",
            "peakrpm             5.042608e+02\n",
            "citympg             6.228551e+00\n",
            "highwaympg          6.310055e+00\n",
            "price               7.961041e+03\n",
            "dtype: float64\n"
          ]
        }
      ]
    },
    {
      "cell_type": "code",
      "source": [
        "\n",
        "print(\"Population mean\")\n",
        "print(df.mean())\n",
        "print(\"\\nPopulation sd\")\n",
        "print(df.std())\n",
        "print(\"\\nPopulation var\")\n",
        "print(df.var())\n",
        "\n"
      ],
      "metadata": {
        "colab": {
          "base_uri": "https://localhost:8080/"
        },
        "id": "fsIPn9fDUs35",
        "outputId": "9cff36bb-e075-4002-bb4f-0873b306fcbf"
      },
      "execution_count": null,
      "outputs": [
        {
          "output_type": "stream",
          "name": "stdout",
          "text": [
            "Population mean\n",
            "symboling               0.834146\n",
            "CompanyName            12.219512\n",
            "CarName                54.234146\n",
            "fueltype                0.902439\n",
            "aspiration              0.180488\n",
            "doornumber              0.439024\n",
            "carbody                 2.614634\n",
            "drivewheel              1.326829\n",
            "enginelocation          0.014634\n",
            "wheelbase              98.468022\n",
            "carlength             174.197508\n",
            "carwidth               65.657852\n",
            "carheight              53.724878\n",
            "curbweight           2555.565854\n",
            "enginetype              3.014634\n",
            "cylindernumber          2.117073\n",
            "enginesize            120.116266\n",
            "fuelsystem              3.253659\n",
            "boreratio               3.329756\n",
            "stroke                  3.291677\n",
            "compressionratio        8.925943\n",
            "horsepower             96.949640\n",
            "peakrpm              5111.663450\n",
            "citympg                25.002211\n",
            "highwaympg             30.447342\n",
            "price               13276.710571\n",
            "dtype: float64\n",
            "\n",
            "Population sd\n",
            "symboling           1.245307e+00\n",
            "CompanyName         6.314131e+00\n",
            "CarName             3.323348e+01\n",
            "fueltype            2.974465e-01\n",
            "aspiration          3.855347e-01\n",
            "doornumber          4.974829e-01\n",
            "carbody             8.590810e-01\n",
            "drivewheel          5.561706e-01\n",
            "enginelocation      1.203772e-01\n",
            "wheelbase           5.568771e+00\n",
            "carlength           1.212010e+01\n",
            "carwidth            1.798513e+00\n",
            "carheight           2.443522e+00\n",
            "curbweight          5.206802e+02\n",
            "enginetype          1.054765e+00\n",
            "cylindernumber      7.957924e-01\n",
            "enginesize          2.837464e+01\n",
            "fuelsystem          2.013204e+00\n",
            "boreratio           2.708437e-01\n",
            "stroke              2.008812e-01\n",
            "compressionratio    5.236226e-01\n",
            "horsepower          2.421759e-13\n",
            "peakrpm             4.539784e+02\n",
            "citympg             6.136541e+00\n",
            "highwaympg          6.359860e+00\n",
            "price               7.988852e+03\n",
            "dtype: float64\n",
            "\n",
            "Population var\n",
            "symboling           1.550789e+00\n",
            "CompanyName         3.986824e+01\n",
            "CarName             1.104465e+03\n",
            "fueltype            8.847441e-02\n",
            "aspiration          1.486370e-01\n",
            "doornumber          2.474892e-01\n",
            "carbody             7.380201e-01\n",
            "drivewheel          3.093257e-01\n",
            "enginelocation      1.449067e-02\n",
            "wheelbase           3.101121e+01\n",
            "carlength           1.468969e+02\n",
            "carwidth            3.234648e+00\n",
            "carheight           5.970800e+00\n",
            "curbweight          2.711079e+05\n",
            "enginetype          1.112530e+00\n",
            "cylindernumber      6.332855e-01\n",
            "enginesize          8.051204e+02\n",
            "fuelsystem          4.052989e+00\n",
            "boreratio           7.335631e-02\n",
            "stroke              4.035326e-02\n",
            "compressionratio    2.741806e-01\n",
            "horsepower          5.864918e-26\n",
            "peakrpm             2.060963e+05\n",
            "citympg             3.765713e+01\n",
            "highwaympg          4.044782e+01\n",
            "price               6.382176e+07\n",
            "dtype: float64\n"
          ]
        }
      ]
    },
    {
      "cell_type": "markdown",
      "source": [
        "**Horsepower**"
      ],
      "metadata": {
        "id": "IwLj0nL28FVU"
      }
    },
    {
      "cell_type": "markdown",
      "source": [
        "*hypothesis: as the horsepower of the vehicle increases, sale increases*"
      ],
      "metadata": {
        "id": "IfGxGfXsZGiz"
      }
    },
    {
      "cell_type": "code",
      "source": [
        ""
      ],
      "metadata": {
        "id": "-cCITVOq78BJ"
      },
      "execution_count": null,
      "outputs": []
    },
    {
      "cell_type": "code",
      "source": [
        "#H0 : μ =  104.117073 , Ha :  μ >  104.117073\n",
        "\n",
        "n = 60\n",
        "\n",
        "xbar =  97.733333  #sample mean\n",
        "\n",
        "mu =  104.117073  #popln mean\n",
        "\n",
        "sigma =  7988.852332 #pop SD \n",
        "\n",
        "alpha = 0.05"
      ],
      "metadata": {
        "id": "NKsvXYDRUWuR"
      },
      "execution_count": null,
      "outputs": []
    },
    {
      "cell_type": "code",
      "metadata": {
        "colab": {
          "base_uri": "https://localhost:8080/"
        },
        "id": "a6QPVFCQo1rs",
        "outputId": "1de9d5c6-e57a-4fcd-b4da-abb26f425ac6"
      },
      "source": [
        "z = (xbar- mu)/(sigma/np.sqrt(n))\n",
        "\n",
        "z"
      ],
      "execution_count": null,
      "outputs": [
        {
          "output_type": "execute_result",
          "data": {
            "text/plain": [
              "-0.006189654703588316"
            ]
          },
          "metadata": {},
          "execution_count": 42
        }
      ]
    },
    {
      "cell_type": "code",
      "source": [
        "z_critical = abs(st.norm.ppf(alpha)) \n",
        "z_critical"
      ],
      "metadata": {
        "colab": {
          "base_uri": "https://localhost:8080/"
        },
        "id": "1DsA52Ogj0_N",
        "outputId": "91fc7648-1220-48da-a168-234fc0f8b2d4"
      },
      "execution_count": null,
      "outputs": [
        {
          "output_type": "execute_result",
          "data": {
            "text/plain": [
              "1.6448536269514729"
            ]
          },
          "metadata": {},
          "execution_count": 43
        }
      ]
    },
    {
      "cell_type": "code",
      "source": [
        "if (z > z_critical): #right-tailed test\n",
        "\n",
        "    print(\"Reject null hypothesis\")\n",
        "\n",
        "else:\n",
        "\n",
        "    print(\"Null hypothesis cannot be rejected\")\n",
        "\n",
        "    "
      ],
      "metadata": {
        "colab": {
          "base_uri": "https://localhost:8080/"
        },
        "id": "jCA2eLK6cEnf",
        "outputId": "23b199da-91fb-4271-f5a8-4a5b1896db0d"
      },
      "execution_count": null,
      "outputs": [
        {
          "output_type": "stream",
          "name": "stdout",
          "text": [
            "Null hypothesis cannot be rejected\n"
          ]
        }
      ]
    },
    {
      "cell_type": "markdown",
      "metadata": {
        "id": "ONbAhIt0o9HX"
      },
      "source": [
        "inference : since z > z critical value : null hypothesis is cannot b  rejected hence we conclude that the avg horspower is greater than 104.11"
      ]
    },
    {
      "cell_type": "markdown",
      "metadata": {
        "id": "EOBcSvdmrxut"
      },
      "source": [
        "**Car Price**"
      ]
    },
    {
      "cell_type": "markdown",
      "source": [
        "*hypothesis:when the price of car is decresing the selling rate increases*"
      ],
      "metadata": {
        "id": "CnV8jJVkh8uO"
      }
    },
    {
      "cell_type": "code",
      "source": [
        "#H0 : μ =  13276.710571 , Ha :  μ < 13276.710571\n",
        "\n",
        "n = 60\n",
        "\n",
        "xbar =   12660.958333  #sample mean\n",
        "\n",
        "mu =  13276.710571  #popln mean\n",
        "\n",
        "sigma =  39.544167 #pop SD \n",
        "\n",
        "alpha = 0.05"
      ],
      "metadata": {
        "id": "5VwPR1jshoEC"
      },
      "execution_count": null,
      "outputs": []
    },
    {
      "cell_type": "code",
      "source": [
        "z = (xbar- mu)/(sigma/np.sqrt(n))\n",
        "\n",
        "z"
      ],
      "metadata": {
        "colab": {
          "base_uri": "https://localhost:8080/"
        },
        "id": "Vxs2iuBikOvI",
        "outputId": "2b777c01-6c0d-46c7-fd5e-e2c69b4867ed"
      },
      "execution_count": null,
      "outputs": [
        {
          "output_type": "execute_result",
          "data": {
            "text/plain": [
              "-120.61440885397548"
            ]
          },
          "metadata": {},
          "execution_count": 46
        }
      ]
    },
    {
      "cell_type": "code",
      "metadata": {
        "id": "oS1M4FtNpF-2",
        "colab": {
          "base_uri": "https://localhost:8080/"
        },
        "outputId": "845ae357-f630-4fb3-8d03-a3b5ff7bde59"
      },
      "source": [
        "z_critical = (st.norm.ppf(alpha)) \n",
        "z_critical"
      ],
      "execution_count": null,
      "outputs": [
        {
          "output_type": "execute_result",
          "data": {
            "text/plain": [
              "-1.6448536269514729"
            ]
          },
          "metadata": {},
          "execution_count": 47
        }
      ]
    },
    {
      "cell_type": "code",
      "source": [
        "if (z < z_critical): #left-tailed test\n",
        "\n",
        "    print(\"Reject null hypothesis\")\n",
        "\n",
        "else:\n",
        "\n",
        "    print(\"Null hypothesis cannot be rejected\")\n"
      ],
      "metadata": {
        "colab": {
          "base_uri": "https://localhost:8080/"
        },
        "id": "bboCuw84kfSy",
        "outputId": "31981597-6896-45b9-e60d-34f42c63eca1"
      },
      "execution_count": null,
      "outputs": [
        {
          "output_type": "stream",
          "name": "stdout",
          "text": [
            "Reject null hypothesis\n"
          ]
        }
      ]
    },
    {
      "cell_type": "markdown",
      "metadata": {
        "id": "kDdS_wBgpJM3"
      },
      "source": [
        "inference : since z < z score value : null hypothesis is rejected hence we conclude that the when the car price decreases selling rate does not increase"
      ]
    },
    {
      "cell_type": "markdown",
      "metadata": {
        "id": "iBHaqp64pLhk"
      },
      "source": [
        "**Engine size** - *T test*"
      ]
    },
    {
      "cell_type": "markdown",
      "source": [
        "hypothesis : engine size will decide the selling rate of car"
      ],
      "metadata": {
        "id": "FqopK7iqm3zw"
      }
    },
    {
      "cell_type": "code",
      "source": [
        "s_ttest= df.sample(n=25,random_state=1)\n",
        "\n",
        "print(\"sample ttest mean\")\n",
        "\n",
        "print(s_ttest.mean())\n",
        "\n",
        "print(\"\\nsample ttest sd\")\n",
        "\n",
        "print(s_ttest.std())"
      ],
      "metadata": {
        "colab": {
          "base_uri": "https://localhost:8080/"
        },
        "id": "jfGgOar3lAZm",
        "outputId": "009ac16d-01a4-47f2-eb43-65800124a34d"
      },
      "execution_count": null,
      "outputs": [
        {
          "output_type": "stream",
          "name": "stdout",
          "text": [
            "sample ttest mean\n",
            "symboling               1.120000\n",
            "CompanyName            11.840000\n",
            "CarName                48.080000\n",
            "fueltype                0.960000\n",
            "aspiration              0.200000\n",
            "doornumber              0.600000\n",
            "carbody                 2.320000\n",
            "drivewheel              1.160000\n",
            "enginelocation          0.000000\n",
            "wheelbase              96.896000\n",
            "carlength             169.683568\n",
            "carwidth               64.928000\n",
            "carheight              53.416000\n",
            "curbweight           2363.240000\n",
            "enginetype              2.880000\n",
            "cylindernumber          2.000000\n",
            "enginesize            114.680000\n",
            "fuelsystem              2.840000\n",
            "boreratio               3.280800\n",
            "stroke                  3.312095\n",
            "compressionratio        8.957709\n",
            "horsepower             96.949640\n",
            "peakrpm              5214.000000\n",
            "citympg                26.309065\n",
            "highwaympg             31.942734\n",
            "price               11095.460000\n",
            "dtype: float64\n",
            "\n",
            "sample ttest sd\n",
            "symboling           1.235584e+00\n",
            "CompanyName         6.871924e+00\n",
            "CarName             3.404766e+01\n",
            "fueltype            2.000000e-01\n",
            "aspiration          4.082483e-01\n",
            "doornumber          5.000000e-01\n",
            "carbody             9.000000e-01\n",
            "drivewheel          5.537749e-01\n",
            "enginelocation      0.000000e+00\n",
            "wheelbase           4.700840e+00\n",
            "carlength           1.174506e+01\n",
            "carwidth            1.899895e+00\n",
            "carheight           1.903654e+00\n",
            "curbweight          4.601866e+02\n",
            "enginetype          6.658328e-01\n",
            "cylindernumber      5.000000e-01\n",
            "enginesize          2.719026e+01\n",
            "fuelsystem          2.211334e+00\n",
            "boreratio           2.780276e-01\n",
            "stroke              2.135347e-01\n",
            "compressionratio    5.337340e-01\n",
            "horsepower          2.900779e-14\n",
            "peakrpm             4.906458e+02\n",
            "citympg             4.715607e+00\n",
            "highwaympg          5.136083e+00\n",
            "price               4.964852e+03\n",
            "dtype: float64\n"
          ]
        }
      ]
    },
    {
      "cell_type": "code",
      "source": [
        "#H0 : μ = 126.907317 , Ha : μ != 126.907317\n",
        "\n",
        "n = 25\n",
        "\n",
        "degrees_of_freedom = n-1\n",
        "\n",
        "xbar = 114.6800 #sample t test mean\n",
        "\n",
        "mu = 126.907317 #pop mean\n",
        "\n",
        "s = 41.642693 #pop SD\n",
        "\n",
        "alpha = 0.05"
      ],
      "metadata": {
        "id": "WAEXN24ylVrR"
      },
      "execution_count": null,
      "outputs": []
    },
    {
      "cell_type": "code",
      "source": [
        "t = (xbar-mu)/(s/np.sqrt(n))\n",
        "\n",
        "t"
      ],
      "metadata": {
        "colab": {
          "base_uri": "https://localhost:8080/"
        },
        "id": "2jj53srgl3vM",
        "outputId": "4b14d5b9-f1dd-4a4f-96ac-0a28c1e951b5"
      },
      "execution_count": null,
      "outputs": [
        {
          "output_type": "execute_result",
          "data": {
            "text/plain": [
              "-1.4681227508509116"
            ]
          },
          "metadata": {},
          "execution_count": 51
        }
      ]
    },
    {
      "cell_type": "code",
      "source": [
        "t_critical = st.t.ppf(alpha/2, degrees_of_freedom)\n",
        "\n",
        "t_critical"
      ],
      "metadata": {
        "colab": {
          "base_uri": "https://localhost:8080/"
        },
        "id": "NQrS9xkul7EW",
        "outputId": "f21bcf48-bba7-43d9-88fa-244ec4066fd8"
      },
      "execution_count": null,
      "outputs": [
        {
          "output_type": "execute_result",
          "data": {
            "text/plain": [
              "-2.063898561628021"
            ]
          },
          "metadata": {},
          "execution_count": 52
        }
      ]
    },
    {
      "cell_type": "code",
      "source": [
        "if (abs(t) > abs(t_critical)): \n",
        "    print(\"Null hypothesis cannot be rejected\")\n",
        "else:\n",
        "    print(\"Reject null hypothesis\")\n",
        "\n",
        "\n",
        "\n"
      ],
      "metadata": {
        "colab": {
          "base_uri": "https://localhost:8080/"
        },
        "id": "4yCsib4TmQFW",
        "outputId": "432a3040-7242-481a-baef-64cbee091f84"
      },
      "execution_count": null,
      "outputs": [
        {
          "output_type": "stream",
          "name": "stdout",
          "text": [
            "Reject null hypothesis\n"
          ]
        }
      ]
    },
    {
      "cell_type": "markdown",
      "metadata": {
        "id": "eMbFEb2Tp_nY"
      },
      "source": [
        "inference :since t > t critical value  : null hypothesis is not rejected so we conclude engine size does matter ."
      ]
    },
    {
      "cell_type": "markdown",
      "metadata": {
        "id": "Y1AT3FV1L5RY"
      },
      "source": [
        "#**MACHINE LEARNING MODELS**"
      ]
    },
    {
      "cell_type": "code",
      "metadata": {
        "id": "_7aG2pRpjFpc"
      },
      "source": [
        "input = df_final.drop(['price'],axis=1)\n",
        "target = df_final['price']"
      ],
      "execution_count": null,
      "outputs": []
    },
    {
      "cell_type": "code",
      "metadata": {
        "id": "oESU600QjOYZ"
      },
      "source": [
        "from sklearn.model_selection import train_test_split\n",
        "X_train, X_test, y_train, y_test = train_test_split(input, target, test_size=0.2)"
      ],
      "execution_count": null,
      "outputs": []
    },
    {
      "cell_type": "code",
      "metadata": {
        "id": "KMs8MNpDL06_"
      },
      "source": [
        "# Initialzing empty lists to append all model's name and corresponding name\n",
        "acc = []\n",
        "model = []\n",
        "err = []"
      ],
      "execution_count": null,
      "outputs": []
    },
    {
      "cell_type": "code",
      "metadata": {
        "id": "9uyDrK92IQmp"
      },
      "source": [
        "from sklearn.metrics import confusion_matrix , accuracy_score\n",
        "from sklearn.metrics import classification_report\n",
        "from sklearn.metrics import mean_squared_error\n",
        "from sklearn.model_selection import cross_val_predict"
      ],
      "execution_count": null,
      "outputs": []
    },
    {
      "cell_type": "code",
      "metadata": {
        "id": "2805_LNMjKJS"
      },
      "source": [
        "def crossValEvaluate(model, X, y):\n",
        "  y_pred = cross_val_predict(model, X, y, cv=3);\n",
        "\n",
        "  scores = mean_squared_error(y_pred, y)\n",
        "  print(f'Validation Error: {np.sqrt(scores)}')"
      ],
      "execution_count": null,
      "outputs": []
    },
    {
      "cell_type": "code",
      "metadata": {
        "id": "vy7BYUn6jL5P"
      },
      "source": [
        "def testSetEvaluate(model, X_train, y_train, X_test, y_test):\n",
        "  model.fit(X_train, y_train)\n",
        "  y_pred = model.predict(X_test)\n",
        "\n",
        "  scores = mean_squared_error(y_pred, y_test)\n",
        "  print(f'Test Error: {np.sqrt(scores)}')\n",
        "\n",
        "  return scores"
      ],
      "execution_count": null,
      "outputs": []
    },
    {
      "cell_type": "markdown",
      "metadata": {
        "id": "cryMLIz_gGb_"
      },
      "source": [
        "## **LINEAR REGRESSION**"
      ]
    },
    {
      "cell_type": "code",
      "metadata": {
        "id": "p0jzrccfh_hc"
      },
      "source": [
        "model.append('Linear Regression')"
      ],
      "execution_count": null,
      "outputs": []
    },
    {
      "cell_type": "code",
      "metadata": {
        "colab": {
          "base_uri": "https://localhost:8080/"
        },
        "id": "-38y9b0ugN3r",
        "outputId": "25d59e54-b437-44b6-8959-a68721e27661"
      },
      "source": [
        "from sklearn.linear_model import LinearRegression\n",
        "lr = LinearRegression()\n",
        "lr.fit(X_train,y_train)"
      ],
      "execution_count": null,
      "outputs": [
        {
          "output_type": "execute_result",
          "data": {
            "text/plain": [
              "LinearRegression()"
            ]
          },
          "metadata": {},
          "execution_count": 61
        }
      ]
    },
    {
      "cell_type": "code",
      "metadata": {
        "colab": {
          "base_uri": "https://localhost:8080/"
        },
        "id": "TsRU6AySgapk",
        "outputId": "a51e7b12-1810-4962-fdda-11007c5ce7a7"
      },
      "source": [
        "lr.coef_ , lr.intercept_"
      ],
      "execution_count": null,
      "outputs": [
        {
          "output_type": "execute_result",
          "data": {
            "text/plain": [
              "(array([-4.39363922e+02, -2.34541146e+02,  2.77750657e+01, -1.35389992e+03,\n",
              "         6.37201446e+01,  6.71348573e+02, -9.75659473e+02,  9.18549657e+02,\n",
              "         1.94878388e+04,  1.50268402e+02,  5.61800426e+01, -1.42504866e+02,\n",
              "        -1.38125535e+02,  1.23468850e+01,  7.35377203e+02, -1.48322483e+03,\n",
              "        -6.64431388e+01,  3.37509357e+02, -2.40192372e+02, -3.56867809e+03,\n",
              "         1.22082461e+03, -1.18234311e-11,  7.69869525e-01, -4.30355800e+02,\n",
              "         3.48100327e+02]), -16650.46079566238)"
            ]
          },
          "metadata": {},
          "execution_count": 62
        }
      ]
    },
    {
      "cell_type": "code",
      "metadata": {
        "id": "PJjRkWiPge_v"
      },
      "source": [
        "y_pred_lr = lr.predict(X_test)"
      ],
      "execution_count": null,
      "outputs": []
    },
    {
      "cell_type": "code",
      "metadata": {
        "colab": {
          "base_uri": "https://localhost:8080/"
        },
        "id": "XOZvsZ6fgr9K",
        "outputId": "15213d0d-abd4-4a1c-daae-e9e338dfafc1"
      },
      "source": [
        "lr_score = lr.score(X_test,y_test)\n",
        "acc.append(lr_score)\n",
        "print('Linear Regression Accuracy = ', lr_score*100 , '%')"
      ],
      "execution_count": null,
      "outputs": [
        {
          "output_type": "stream",
          "name": "stdout",
          "text": [
            "Linear Regression Accuracy =  85.01175015108944 %\n"
          ]
        }
      ]
    },
    {
      "cell_type": "code",
      "metadata": {
        "colab": {
          "base_uri": "https://localhost:8080/"
        },
        "id": "G6ev4v1sj7As",
        "outputId": "45ed3733-1d50-4b49-c3dc-807adb1f87b7"
      },
      "source": [
        "crossValEvaluate(lr, X_train, y_train)"
      ],
      "execution_count": null,
      "outputs": [
        {
          "output_type": "stream",
          "name": "stdout",
          "text": [
            "Validation Error: 3813.333697070317\n"
          ]
        }
      ]
    },
    {
      "cell_type": "code",
      "metadata": {
        "colab": {
          "base_uri": "https://localhost:8080/"
        },
        "id": "bHKlGd8xjWOR",
        "outputId": "b0366ab1-b8f6-40f3-958a-915e9ff5753e"
      },
      "source": [
        "lr_error = testSetEvaluate(lr, X_train, y_train, X_test, y_test)\n",
        "err.append(lr_error)"
      ],
      "execution_count": null,
      "outputs": [
        {
          "output_type": "stream",
          "name": "stdout",
          "text": [
            "Test Error: 2619.7069337922603\n"
          ]
        }
      ]
    },
    {
      "cell_type": "code",
      "metadata": {
        "colab": {
          "base_uri": "https://localhost:8080/",
          "height": 708
        },
        "id": "icufwkIThSVw",
        "outputId": "96127382-10ba-46ff-88e2-709e4da7ccf3"
      },
      "source": [
        "pred_df_lr = pd.DataFrame({'y_test':y_test,'y_pred':y_pred_lr})\n",
        "pred_df_lr.sample(20)"
      ],
      "execution_count": null,
      "outputs": [
        {
          "output_type": "execute_result",
          "data": {
            "text/html": [
              "<div>\n",
              "<style scoped>\n",
              "    .dataframe tbody tr th:only-of-type {\n",
              "        vertical-align: middle;\n",
              "    }\n",
              "\n",
              "    .dataframe tbody tr th {\n",
              "        vertical-align: top;\n",
              "    }\n",
              "\n",
              "    .dataframe thead th {\n",
              "        text-align: right;\n",
              "    }\n",
              "</style>\n",
              "<table border=\"1\" class=\"dataframe\">\n",
              "  <thead>\n",
              "    <tr style=\"text-align: right;\">\n",
              "      <th></th>\n",
              "      <th>y_test</th>\n",
              "      <th>y_pred</th>\n",
              "    </tr>\n",
              "    <tr>\n",
              "      <th>car_ID</th>\n",
              "      <th></th>\n",
              "      <th></th>\n",
              "    </tr>\n",
              "  </thead>\n",
              "  <tbody>\n",
              "    <tr>\n",
              "      <th>47</th>\n",
              "      <td>11048.0</td>\n",
              "      <td>17712.236382</td>\n",
              "    </tr>\n",
              "    <tr>\n",
              "      <th>117</th>\n",
              "      <td>17950.0</td>\n",
              "      <td>18712.980241</td>\n",
              "    </tr>\n",
              "    <tr>\n",
              "      <th>33</th>\n",
              "      <td>5399.0</td>\n",
              "      <td>6868.455996</td>\n",
              "    </tr>\n",
              "    <tr>\n",
              "      <th>118</th>\n",
              "      <td>18150.0</td>\n",
              "      <td>21292.369226</td>\n",
              "    </tr>\n",
              "    <tr>\n",
              "      <th>52</th>\n",
              "      <td>6095.0</td>\n",
              "      <td>6607.272063</td>\n",
              "    </tr>\n",
              "    <tr>\n",
              "      <th>6</th>\n",
              "      <td>15250.0</td>\n",
              "      <td>15868.586216</td>\n",
              "    </tr>\n",
              "    <tr>\n",
              "      <th>131</th>\n",
              "      <td>9295.0</td>\n",
              "      <td>9970.211825</td>\n",
              "    </tr>\n",
              "    <tr>\n",
              "      <th>55</th>\n",
              "      <td>7395.0</td>\n",
              "      <td>5998.184977</td>\n",
              "    </tr>\n",
              "    <tr>\n",
              "      <th>93</th>\n",
              "      <td>6849.0</td>\n",
              "      <td>5264.423988</td>\n",
              "    </tr>\n",
              "    <tr>\n",
              "      <th>30</th>\n",
              "      <td>12964.0</td>\n",
              "      <td>14440.096674</td>\n",
              "    </tr>\n",
              "    <tr>\n",
              "      <th>122</th>\n",
              "      <td>6692.0</td>\n",
              "      <td>5229.956413</td>\n",
              "    </tr>\n",
              "    <tr>\n",
              "      <th>121</th>\n",
              "      <td>6229.0</td>\n",
              "      <td>7232.963433</td>\n",
              "    </tr>\n",
              "    <tr>\n",
              "      <th>31</th>\n",
              "      <td>6479.0</td>\n",
              "      <td>2214.902993</td>\n",
              "    </tr>\n",
              "    <tr>\n",
              "      <th>68</th>\n",
              "      <td>25552.0</td>\n",
              "      <td>25486.276311</td>\n",
              "    </tr>\n",
              "    <tr>\n",
              "      <th>83</th>\n",
              "      <td>12629.0</td>\n",
              "      <td>14170.507022</td>\n",
              "    </tr>\n",
              "    <tr>\n",
              "      <th>77</th>\n",
              "      <td>5389.0</td>\n",
              "      <td>6113.026818</td>\n",
              "    </tr>\n",
              "    <tr>\n",
              "      <th>139</th>\n",
              "      <td>5118.0</td>\n",
              "      <td>6468.601075</td>\n",
              "    </tr>\n",
              "    <tr>\n",
              "      <th>20</th>\n",
              "      <td>6295.0</td>\n",
              "      <td>7398.367768</td>\n",
              "    </tr>\n",
              "    <tr>\n",
              "      <th>134</th>\n",
              "      <td>12170.0</td>\n",
              "      <td>14481.751043</td>\n",
              "    </tr>\n",
              "    <tr>\n",
              "      <th>16</th>\n",
              "      <td>30760.0</td>\n",
              "      <td>25913.837596</td>\n",
              "    </tr>\n",
              "  </tbody>\n",
              "</table>\n",
              "</div>"
            ],
            "text/plain": [
              "         y_test        y_pred\n",
              "car_ID                       \n",
              "47      11048.0  17712.236382\n",
              "117     17950.0  18712.980241\n",
              "33       5399.0   6868.455996\n",
              "118     18150.0  21292.369226\n",
              "52       6095.0   6607.272063\n",
              "6       15250.0  15868.586216\n",
              "131      9295.0   9970.211825\n",
              "55       7395.0   5998.184977\n",
              "93       6849.0   5264.423988\n",
              "30      12964.0  14440.096674\n",
              "122      6692.0   5229.956413\n",
              "121      6229.0   7232.963433\n",
              "31       6479.0   2214.902993\n",
              "68      25552.0  25486.276311\n",
              "83      12629.0  14170.507022\n",
              "77       5389.0   6113.026818\n",
              "139      5118.0   6468.601075\n",
              "20       6295.0   7398.367768\n",
              "134     12170.0  14481.751043\n",
              "16      30760.0  25913.837596"
            ]
          },
          "metadata": {},
          "execution_count": 67
        }
      ]
    },
    {
      "cell_type": "markdown",
      "metadata": {
        "id": "3aGcUfK0OQEO"
      },
      "source": [
        "## **DECISION TREE**"
      ]
    },
    {
      "cell_type": "code",
      "metadata": {
        "id": "SRsZkiorPRTz"
      },
      "source": [
        "model.append('Decision Tree')"
      ],
      "execution_count": null,
      "outputs": []
    },
    {
      "cell_type": "code",
      "metadata": {
        "colab": {
          "base_uri": "https://localhost:8080/"
        },
        "id": "EMo4SCymOVU3",
        "outputId": "1285504e-c916-4aa1-fde6-6e8c27ddfddf"
      },
      "source": [
        "from sklearn.tree import DecisionTreeRegressor\n",
        "dt = DecisionTreeRegressor(max_depth=8, min_samples_leaf=5)\n",
        "dt.fit(X_train,y_train)"
      ],
      "execution_count": null,
      "outputs": [
        {
          "output_type": "execute_result",
          "data": {
            "text/plain": [
              "DecisionTreeRegressor(max_depth=8, min_samples_leaf=5)"
            ]
          },
          "metadata": {},
          "execution_count": 69
        }
      ]
    },
    {
      "cell_type": "code",
      "metadata": {
        "colab": {
          "base_uri": "https://localhost:8080/"
        },
        "id": "6tuigqmIOi4e",
        "outputId": "cf2aa82f-2637-424d-846c-5e509184b4ef"
      },
      "source": [
        "dt_score = dt.score(X_test,y_test)\n",
        "acc.append(dt_score)\n",
        "print('Decision Tree Accuracy = ', dt_score*100 , '%')"
      ],
      "execution_count": null,
      "outputs": [
        {
          "output_type": "stream",
          "name": "stdout",
          "text": [
            "Decision Tree Accuracy =  73.53063216130965 %\n"
          ]
        }
      ]
    },
    {
      "cell_type": "code",
      "metadata": {
        "colab": {
          "base_uri": "https://localhost:8080/"
        },
        "id": "iYRbsl4on5Zv",
        "outputId": "af77dde7-1bc0-4e75-9374-874ad0a9c4d4"
      },
      "source": [
        "crossValEvaluate(dt, X_train, y_train)"
      ],
      "execution_count": null,
      "outputs": [
        {
          "output_type": "stream",
          "name": "stdout",
          "text": [
            "Validation Error: 5444.114067325735\n"
          ]
        }
      ]
    },
    {
      "cell_type": "code",
      "metadata": {
        "colab": {
          "base_uri": "https://localhost:8080/"
        },
        "id": "7erlsGpcoAms",
        "outputId": "bb0a93ec-6959-4f78-c726-5676d01526e1"
      },
      "source": [
        "dt_error = testSetEvaluate(dt, X_train, y_train, X_test, y_test)\n",
        "err.append(dt_error)"
      ],
      "execution_count": null,
      "outputs": [
        {
          "output_type": "stream",
          "name": "stdout",
          "text": [
            "Test Error: 3448.415960628675\n"
          ]
        }
      ]
    },
    {
      "cell_type": "code",
      "metadata": {
        "id": "yPoRiYIqoYEG"
      },
      "source": [
        "y_pred_dt = dt.predict(X_test)"
      ],
      "execution_count": null,
      "outputs": []
    },
    {
      "cell_type": "code",
      "metadata": {
        "colab": {
          "base_uri": "https://localhost:8080/",
          "height": 708
        },
        "id": "amXRge8ZoUsj",
        "outputId": "d24188b2-f24e-4b39-8782-2852fcfcf8e3"
      },
      "source": [
        "pred_df_dt = pd.DataFrame({'Test_Value':y_test, 'Predicted':y_pred_dt})\n",
        "pred_df_dt.sample(20)"
      ],
      "execution_count": null,
      "outputs": [
        {
          "output_type": "execute_result",
          "data": {
            "text/html": [
              "<div>\n",
              "<style scoped>\n",
              "    .dataframe tbody tr th:only-of-type {\n",
              "        vertical-align: middle;\n",
              "    }\n",
              "\n",
              "    .dataframe tbody tr th {\n",
              "        vertical-align: top;\n",
              "    }\n",
              "\n",
              "    .dataframe thead th {\n",
              "        text-align: right;\n",
              "    }\n",
              "</style>\n",
              "<table border=\"1\" class=\"dataframe\">\n",
              "  <thead>\n",
              "    <tr style=\"text-align: right;\">\n",
              "      <th></th>\n",
              "      <th>Test_Value</th>\n",
              "      <th>Predicted</th>\n",
              "    </tr>\n",
              "    <tr>\n",
              "      <th>car_ID</th>\n",
              "      <th></th>\n",
              "      <th></th>\n",
              "    </tr>\n",
              "  </thead>\n",
              "  <tbody>\n",
              "    <tr>\n",
              "      <th>93</th>\n",
              "      <td>6849.0</td>\n",
              "      <td>6722.166667</td>\n",
              "    </tr>\n",
              "    <tr>\n",
              "      <th>3</th>\n",
              "      <td>16500.0</td>\n",
              "      <td>20652.800000</td>\n",
              "    </tr>\n",
              "    <tr>\n",
              "      <th>68</th>\n",
              "      <td>25552.0</td>\n",
              "      <td>23791.800000</td>\n",
              "    </tr>\n",
              "    <tr>\n",
              "      <th>140</th>\n",
              "      <td>7053.0</td>\n",
              "      <td>9004.857143</td>\n",
              "    </tr>\n",
              "    <tr>\n",
              "      <th>77</th>\n",
              "      <td>5389.0</td>\n",
              "      <td>5697.714286</td>\n",
              "    </tr>\n",
              "    <tr>\n",
              "      <th>106</th>\n",
              "      <td>19699.0</td>\n",
              "      <td>16931.400000</td>\n",
              "    </tr>\n",
              "    <tr>\n",
              "      <th>78</th>\n",
              "      <td>6189.0</td>\n",
              "      <td>5697.714286</td>\n",
              "    </tr>\n",
              "    <tr>\n",
              "      <th>122</th>\n",
              "      <td>6692.0</td>\n",
              "      <td>7951.000000</td>\n",
              "    </tr>\n",
              "    <tr>\n",
              "      <th>20</th>\n",
              "      <td>6295.0</td>\n",
              "      <td>6947.625000</td>\n",
              "    </tr>\n",
              "    <tr>\n",
              "      <th>121</th>\n",
              "      <td>6229.0</td>\n",
              "      <td>5697.714286</td>\n",
              "    </tr>\n",
              "    <tr>\n",
              "      <th>128</th>\n",
              "      <td>34028.0</td>\n",
              "      <td>25718.200000</td>\n",
              "    </tr>\n",
              "    <tr>\n",
              "      <th>83</th>\n",
              "      <td>12629.0</td>\n",
              "      <td>12741.333333</td>\n",
              "    </tr>\n",
              "    <tr>\n",
              "      <th>134</th>\n",
              "      <td>12170.0</td>\n",
              "      <td>14807.833333</td>\n",
              "    </tr>\n",
              "    <tr>\n",
              "      <th>33</th>\n",
              "      <td>5399.0</td>\n",
              "      <td>6947.625000</td>\n",
              "    </tr>\n",
              "    <tr>\n",
              "      <th>139</th>\n",
              "      <td>5118.0</td>\n",
              "      <td>5697.714286</td>\n",
              "    </tr>\n",
              "    <tr>\n",
              "      <th>181</th>\n",
              "      <td>15690.0</td>\n",
              "      <td>16931.400000</td>\n",
              "    </tr>\n",
              "    <tr>\n",
              "      <th>47</th>\n",
              "      <td>11048.0</td>\n",
              "      <td>20652.800000</td>\n",
              "    </tr>\n",
              "    <tr>\n",
              "      <th>86</th>\n",
              "      <td>6989.0</td>\n",
              "      <td>8394.200000</td>\n",
              "    </tr>\n",
              "    <tr>\n",
              "      <th>141</th>\n",
              "      <td>7603.0</td>\n",
              "      <td>9004.857143</td>\n",
              "    </tr>\n",
              "    <tr>\n",
              "      <th>196</th>\n",
              "      <td>13415.0</td>\n",
              "      <td>18199.444444</td>\n",
              "    </tr>\n",
              "  </tbody>\n",
              "</table>\n",
              "</div>"
            ],
            "text/plain": [
              "        Test_Value     Predicted\n",
              "car_ID                          \n",
              "93          6849.0   6722.166667\n",
              "3          16500.0  20652.800000\n",
              "68         25552.0  23791.800000\n",
              "140         7053.0   9004.857143\n",
              "77          5389.0   5697.714286\n",
              "106        19699.0  16931.400000\n",
              "78          6189.0   5697.714286\n",
              "122         6692.0   7951.000000\n",
              "20          6295.0   6947.625000\n",
              "121         6229.0   5697.714286\n",
              "128        34028.0  25718.200000\n",
              "83         12629.0  12741.333333\n",
              "134        12170.0  14807.833333\n",
              "33          5399.0   6947.625000\n",
              "139         5118.0   5697.714286\n",
              "181        15690.0  16931.400000\n",
              "47         11048.0  20652.800000\n",
              "86          6989.0   8394.200000\n",
              "141         7603.0   9004.857143\n",
              "196        13415.0  18199.444444"
            ]
          },
          "metadata": {},
          "execution_count": 74
        }
      ]
    },
    {
      "cell_type": "markdown",
      "metadata": {
        "id": "waAuvL1-OIpo"
      },
      "source": [
        "## **RANDOM FOREST**"
      ]
    },
    {
      "cell_type": "code",
      "metadata": {
        "id": "4Fg3SQIpN3gO"
      },
      "source": [
        "model.append('Random Forest')"
      ],
      "execution_count": null,
      "outputs": []
    },
    {
      "cell_type": "code",
      "metadata": {
        "id": "9385RJy8GZHC",
        "colab": {
          "base_uri": "https://localhost:8080/"
        },
        "outputId": "2e8191f9-4b67-47dd-87e3-14b22e8e182f"
      },
      "source": [
        "from sklearn.ensemble import RandomForestRegressor\n",
        "rf=RandomForestRegressor(max_depth=10, min_samples_leaf=10,n_estimators=30)\n",
        "rf.fit(X_train,y_train)"
      ],
      "execution_count": null,
      "outputs": [
        {
          "output_type": "execute_result",
          "data": {
            "text/plain": [
              "RandomForestRegressor(max_depth=10, min_samples_leaf=10, n_estimators=30)"
            ]
          },
          "metadata": {},
          "execution_count": 76
        }
      ]
    },
    {
      "cell_type": "code",
      "metadata": {
        "colab": {
          "base_uri": "https://localhost:8080/"
        },
        "id": "7Okz3Z3tIF-O",
        "outputId": "0612d5e2-7016-4091-81f6-61b9fb86c642"
      },
      "source": [
        "rf_score = rf.score(X_test,y_test)\n",
        "acc.append(rf_score)\n",
        "print('Random Forest Accuracy : ',rf_score*100, '%')"
      ],
      "execution_count": null,
      "outputs": [
        {
          "output_type": "stream",
          "name": "stdout",
          "text": [
            "Random Forest Accuracy :  76.13206037050348 %\n"
          ]
        }
      ]
    },
    {
      "cell_type": "code",
      "metadata": {
        "colab": {
          "base_uri": "https://localhost:8080/"
        },
        "id": "cu5-2SvIpKj-",
        "outputId": "0edadb75-41ad-4d46-9a92-5ba5597245fa"
      },
      "source": [
        "crossValEvaluate(rf, X_train, y_train)"
      ],
      "execution_count": null,
      "outputs": [
        {
          "output_type": "stream",
          "name": "stdout",
          "text": [
            "Validation Error: 4797.227265890861\n"
          ]
        }
      ]
    },
    {
      "cell_type": "code",
      "metadata": {
        "colab": {
          "base_uri": "https://localhost:8080/"
        },
        "id": "V0wYHT2IpO8z",
        "outputId": "79d20fb2-f074-40a2-a3f3-3a945abd8fe3"
      },
      "source": [
        "rf_error = testSetEvaluate(rf, X_train, y_train, X_test, y_test)\n",
        "err.append(rf_error)"
      ],
      "execution_count": null,
      "outputs": [
        {
          "output_type": "stream",
          "name": "stdout",
          "text": [
            "Test Error: 2844.087936008131\n"
          ]
        }
      ]
    },
    {
      "cell_type": "code",
      "metadata": {
        "id": "nFGVlCYhGp5T"
      },
      "source": [
        "y_pred_rf = rf.predict(X_test)"
      ],
      "execution_count": null,
      "outputs": []
    },
    {
      "cell_type": "code",
      "metadata": {
        "colab": {
          "base_uri": "https://localhost:8080/",
          "height": 708
        },
        "id": "4YBh_K4jlScv",
        "outputId": "4f489c4b-8ab1-409e-fc2a-935335f566c4"
      },
      "source": [
        "pred_df_rf = pd.DataFrame({'Test_Value':y_test,'Predicted':y_pred_rf})\n",
        "pred_df_rf.sample(20)"
      ],
      "execution_count": null,
      "outputs": [
        {
          "output_type": "execute_result",
          "data": {
            "text/html": [
              "<div>\n",
              "<style scoped>\n",
              "    .dataframe tbody tr th:only-of-type {\n",
              "        vertical-align: middle;\n",
              "    }\n",
              "\n",
              "    .dataframe tbody tr th {\n",
              "        vertical-align: top;\n",
              "    }\n",
              "\n",
              "    .dataframe thead th {\n",
              "        text-align: right;\n",
              "    }\n",
              "</style>\n",
              "<table border=\"1\" class=\"dataframe\">\n",
              "  <thead>\n",
              "    <tr style=\"text-align: right;\">\n",
              "      <th></th>\n",
              "      <th>Test_Value</th>\n",
              "      <th>Predicted</th>\n",
              "    </tr>\n",
              "    <tr>\n",
              "      <th>car_ID</th>\n",
              "      <th></th>\n",
              "      <th></th>\n",
              "    </tr>\n",
              "  </thead>\n",
              "  <tbody>\n",
              "    <tr>\n",
              "      <th>91</th>\n",
              "      <td>7099.0</td>\n",
              "      <td>7642.013383</td>\n",
              "    </tr>\n",
              "    <tr>\n",
              "      <th>33</th>\n",
              "      <td>5399.0</td>\n",
              "      <td>6686.349307</td>\n",
              "    </tr>\n",
              "    <tr>\n",
              "      <th>139</th>\n",
              "      <td>5118.0</td>\n",
              "      <td>7059.345185</td>\n",
              "    </tr>\n",
              "    <tr>\n",
              "      <th>3</th>\n",
              "      <td>16500.0</td>\n",
              "      <td>18360.079888</td>\n",
              "    </tr>\n",
              "    <tr>\n",
              "      <th>134</th>\n",
              "      <td>12170.0</td>\n",
              "      <td>15544.970094</td>\n",
              "    </tr>\n",
              "    <tr>\n",
              "      <th>131</th>\n",
              "      <td>9295.0</td>\n",
              "      <td>11566.998838</td>\n",
              "    </tr>\n",
              "    <tr>\n",
              "      <th>78</th>\n",
              "      <td>6189.0</td>\n",
              "      <td>6601.134650</td>\n",
              "    </tr>\n",
              "    <tr>\n",
              "      <th>31</th>\n",
              "      <td>6479.0</td>\n",
              "      <td>7113.355155</td>\n",
              "    </tr>\n",
              "    <tr>\n",
              "      <th>162</th>\n",
              "      <td>8358.0</td>\n",
              "      <td>7982.611575</td>\n",
              "    </tr>\n",
              "    <tr>\n",
              "      <th>86</th>\n",
              "      <td>6989.0</td>\n",
              "      <td>9828.669911</td>\n",
              "    </tr>\n",
              "    <tr>\n",
              "      <th>96</th>\n",
              "      <td>7799.0</td>\n",
              "      <td>7183.700001</td>\n",
              "    </tr>\n",
              "    <tr>\n",
              "      <th>20</th>\n",
              "      <td>6295.0</td>\n",
              "      <td>6810.704123</td>\n",
              "    </tr>\n",
              "    <tr>\n",
              "      <th>181</th>\n",
              "      <td>15690.0</td>\n",
              "      <td>18989.854643</td>\n",
              "    </tr>\n",
              "    <tr>\n",
              "      <th>106</th>\n",
              "      <td>19699.0</td>\n",
              "      <td>23154.872606</td>\n",
              "    </tr>\n",
              "    <tr>\n",
              "      <th>30</th>\n",
              "      <td>12964.0</td>\n",
              "      <td>18936.867505</td>\n",
              "    </tr>\n",
              "    <tr>\n",
              "      <th>128</th>\n",
              "      <td>34028.0</td>\n",
              "      <td>23990.188910</td>\n",
              "    </tr>\n",
              "    <tr>\n",
              "      <th>185</th>\n",
              "      <td>7995.0</td>\n",
              "      <td>8103.815087</td>\n",
              "    </tr>\n",
              "    <tr>\n",
              "      <th>64</th>\n",
              "      <td>10795.0</td>\n",
              "      <td>11151.846233</td>\n",
              "    </tr>\n",
              "    <tr>\n",
              "      <th>165</th>\n",
              "      <td>8238.0</td>\n",
              "      <td>7987.469385</td>\n",
              "    </tr>\n",
              "    <tr>\n",
              "      <th>117</th>\n",
              "      <td>17950.0</td>\n",
              "      <td>16177.469969</td>\n",
              "    </tr>\n",
              "  </tbody>\n",
              "</table>\n",
              "</div>"
            ],
            "text/plain": [
              "        Test_Value     Predicted\n",
              "car_ID                          \n",
              "91          7099.0   7642.013383\n",
              "33          5399.0   6686.349307\n",
              "139         5118.0   7059.345185\n",
              "3          16500.0  18360.079888\n",
              "134        12170.0  15544.970094\n",
              "131         9295.0  11566.998838\n",
              "78          6189.0   6601.134650\n",
              "31          6479.0   7113.355155\n",
              "162         8358.0   7982.611575\n",
              "86          6989.0   9828.669911\n",
              "96          7799.0   7183.700001\n",
              "20          6295.0   6810.704123\n",
              "181        15690.0  18989.854643\n",
              "106        19699.0  23154.872606\n",
              "30         12964.0  18936.867505\n",
              "128        34028.0  23990.188910\n",
              "185         7995.0   8103.815087\n",
              "64         10795.0  11151.846233\n",
              "165         8238.0   7987.469385\n",
              "117        17950.0  16177.469969"
            ]
          },
          "metadata": {},
          "execution_count": 81
        }
      ]
    },
    {
      "cell_type": "markdown",
      "metadata": {
        "id": "oaxI9Yr5r1qq"
      },
      "source": [
        "## **K NEAREST NEIGHBOR**"
      ]
    },
    {
      "cell_type": "code",
      "metadata": {
        "id": "SdWPZqTfu9aX"
      },
      "source": [
        "model.append('KNN')"
      ],
      "execution_count": null,
      "outputs": []
    },
    {
      "cell_type": "code",
      "metadata": {
        "colab": {
          "base_uri": "https://localhost:8080/"
        },
        "id": "vD_xEV2Vr7Cc",
        "outputId": "8c48fbf3-9a47-437e-94ac-e4d73b26434e"
      },
      "source": [
        "from sklearn.neighbors import KNeighborsRegressor\n",
        "knn = KNeighborsRegressor(n_neighbors=11)\n",
        "knn.fit(X_train,y_train)"
      ],
      "execution_count": null,
      "outputs": [
        {
          "output_type": "execute_result",
          "data": {
            "text/plain": [
              "KNeighborsRegressor(n_neighbors=11)"
            ]
          },
          "metadata": {},
          "execution_count": 83
        }
      ]
    },
    {
      "cell_type": "code",
      "metadata": {
        "colab": {
          "base_uri": "https://localhost:8080/"
        },
        "id": "ykVNHPCasx1u",
        "outputId": "9c377b04-8a42-44d4-b8a4-598015c61e16"
      },
      "source": [
        "knn_score = knn.score(X_test,y_test)\n",
        "acc.append(knn_score)\n",
        "print('K Nearest Neighbor Accuracy : ',knn_score*100, '%')"
      ],
      "execution_count": null,
      "outputs": [
        {
          "output_type": "stream",
          "name": "stdout",
          "text": [
            "K Nearest Neighbor Accuracy :  73.84774949486143 %\n"
          ]
        }
      ]
    },
    {
      "cell_type": "code",
      "metadata": {
        "colab": {
          "base_uri": "https://localhost:8080/"
        },
        "id": "urdkgihdtpMF",
        "outputId": "98ab4b8f-dfb5-4573-a966-694cef98078c"
      },
      "source": [
        "crossValEvaluate(knn, X_train, y_train)"
      ],
      "execution_count": null,
      "outputs": [
        {
          "output_type": "stream",
          "name": "stdout",
          "text": [
            "Validation Error: 4668.08692434353\n"
          ]
        }
      ]
    },
    {
      "cell_type": "code",
      "metadata": {
        "colab": {
          "base_uri": "https://localhost:8080/"
        },
        "id": "laZWh6QZttTQ",
        "outputId": "9b1b89b0-c05d-4da9-f76a-f2f0b5930e9e"
      },
      "source": [
        "knn_error = testSetEvaluate(knn, X_train, y_train, X_test, y_test)\n",
        "err.append(knn_error)"
      ],
      "execution_count": null,
      "outputs": [
        {
          "output_type": "stream",
          "name": "stdout",
          "text": [
            "Test Error: 3460.44364835909\n"
          ]
        }
      ]
    },
    {
      "cell_type": "code",
      "metadata": {
        "id": "z5Fq-XPWtwDu"
      },
      "source": [
        "y_pred_knn = knn.predict(X_test)"
      ],
      "execution_count": null,
      "outputs": []
    },
    {
      "cell_type": "code",
      "metadata": {
        "colab": {
          "base_uri": "https://localhost:8080/",
          "height": 708
        },
        "id": "CE5BXuB5tx0w",
        "outputId": "9d1a3949-c7cb-40ad-c135-d0c2ae101c76"
      },
      "source": [
        "pred_df_knn = pd.DataFrame({'Test_Value':y_test,'Predicted':y_pred_knn})\n",
        "pred_df_knn.sample(20)"
      ],
      "execution_count": null,
      "outputs": [
        {
          "output_type": "execute_result",
          "data": {
            "text/html": [
              "<div>\n",
              "<style scoped>\n",
              "    .dataframe tbody tr th:only-of-type {\n",
              "        vertical-align: middle;\n",
              "    }\n",
              "\n",
              "    .dataframe tbody tr th {\n",
              "        vertical-align: top;\n",
              "    }\n",
              "\n",
              "    .dataframe thead th {\n",
              "        text-align: right;\n",
              "    }\n",
              "</style>\n",
              "<table border=\"1\" class=\"dataframe\">\n",
              "  <thead>\n",
              "    <tr style=\"text-align: right;\">\n",
              "      <th></th>\n",
              "      <th>Test_Value</th>\n",
              "      <th>Predicted</th>\n",
              "    </tr>\n",
              "    <tr>\n",
              "      <th>car_ID</th>\n",
              "      <th></th>\n",
              "      <th></th>\n",
              "    </tr>\n",
              "  </thead>\n",
              "  <tbody>\n",
              "    <tr>\n",
              "      <th>61</th>\n",
              "      <td>8495.0</td>\n",
              "      <td>9251.909091</td>\n",
              "    </tr>\n",
              "    <tr>\n",
              "      <th>20</th>\n",
              "      <td>6295.0</td>\n",
              "      <td>6822.454545</td>\n",
              "    </tr>\n",
              "    <tr>\n",
              "      <th>8</th>\n",
              "      <td>18920.0</td>\n",
              "      <td>17948.560636</td>\n",
              "    </tr>\n",
              "    <tr>\n",
              "      <th>64</th>\n",
              "      <td>10795.0</td>\n",
              "      <td>9546.000000</td>\n",
              "    </tr>\n",
              "    <tr>\n",
              "      <th>86</th>\n",
              "      <td>6989.0</td>\n",
              "      <td>10312.909091</td>\n",
              "    </tr>\n",
              "    <tr>\n",
              "      <th>182</th>\n",
              "      <td>15750.0</td>\n",
              "      <td>16504.181818</td>\n",
              "    </tr>\n",
              "    <tr>\n",
              "      <th>185</th>\n",
              "      <td>7995.0</td>\n",
              "      <td>8177.636364</td>\n",
              "    </tr>\n",
              "    <tr>\n",
              "      <th>83</th>\n",
              "      <td>12629.0</td>\n",
              "      <td>15485.636364</td>\n",
              "    </tr>\n",
              "    <tr>\n",
              "      <th>77</th>\n",
              "      <td>5389.0</td>\n",
              "      <td>7164.818182</td>\n",
              "    </tr>\n",
              "    <tr>\n",
              "      <th>165</th>\n",
              "      <td>8238.0</td>\n",
              "      <td>7559.545455</td>\n",
              "    </tr>\n",
              "    <tr>\n",
              "      <th>117</th>\n",
              "      <td>17950.0</td>\n",
              "      <td>21276.636364</td>\n",
              "    </tr>\n",
              "    <tr>\n",
              "      <th>68</th>\n",
              "      <td>25552.0</td>\n",
              "      <td>27696.272727</td>\n",
              "    </tr>\n",
              "    <tr>\n",
              "      <th>121</th>\n",
              "      <td>6229.0</td>\n",
              "      <td>7164.818182</td>\n",
              "    </tr>\n",
              "    <tr>\n",
              "      <th>122</th>\n",
              "      <td>6692.0</td>\n",
              "      <td>7164.818182</td>\n",
              "    </tr>\n",
              "    <tr>\n",
              "      <th>25</th>\n",
              "      <td>6229.0</td>\n",
              "      <td>7164.818182</td>\n",
              "    </tr>\n",
              "    <tr>\n",
              "      <th>84</th>\n",
              "      <td>14869.0</td>\n",
              "      <td>15455.454545</td>\n",
              "    </tr>\n",
              "    <tr>\n",
              "      <th>33</th>\n",
              "      <td>5399.0</td>\n",
              "      <td>7164.818182</td>\n",
              "    </tr>\n",
              "    <tr>\n",
              "      <th>141</th>\n",
              "      <td>7603.0</td>\n",
              "      <td>9590.818182</td>\n",
              "    </tr>\n",
              "    <tr>\n",
              "      <th>93</th>\n",
              "      <td>6849.0</td>\n",
              "      <td>7104.045455</td>\n",
              "    </tr>\n",
              "    <tr>\n",
              "      <th>181</th>\n",
              "      <td>15690.0</td>\n",
              "      <td>16504.181818</td>\n",
              "    </tr>\n",
              "  </tbody>\n",
              "</table>\n",
              "</div>"
            ],
            "text/plain": [
              "        Test_Value     Predicted\n",
              "car_ID                          \n",
              "61          8495.0   9251.909091\n",
              "20          6295.0   6822.454545\n",
              "8          18920.0  17948.560636\n",
              "64         10795.0   9546.000000\n",
              "86          6989.0  10312.909091\n",
              "182        15750.0  16504.181818\n",
              "185         7995.0   8177.636364\n",
              "83         12629.0  15485.636364\n",
              "77          5389.0   7164.818182\n",
              "165         8238.0   7559.545455\n",
              "117        17950.0  21276.636364\n",
              "68         25552.0  27696.272727\n",
              "121         6229.0   7164.818182\n",
              "122         6692.0   7164.818182\n",
              "25          6229.0   7164.818182\n",
              "84         14869.0  15455.454545\n",
              "33          5399.0   7164.818182\n",
              "141         7603.0   9590.818182\n",
              "93          6849.0   7104.045455\n",
              "181        15690.0  16504.181818"
            ]
          },
          "metadata": {},
          "execution_count": 88
        }
      ]
    },
    {
      "cell_type": "code",
      "source": [
        ""
      ],
      "metadata": {
        "id": "Fp3IJIgrlCge"
      },
      "execution_count": null,
      "outputs": []
    },
    {
      "cell_type": "markdown",
      "metadata": {
        "id": "yQkBh9eipsDA"
      },
      "source": [
        "# **ACCURACY AND ERROR COMPARISION**"
      ]
    },
    {
      "cell_type": "code",
      "metadata": {
        "colab": {
          "base_uri": "https://localhost:8080/"
        },
        "id": "FtCincNtUQoY",
        "outputId": "a7b4852e-caa2-4c0d-ec64-401f65b5a6ce"
      },
      "source": [
        "accuracy_models = dict(zip(model, acc))\n",
        "for k, v in accuracy_models.items():\n",
        "    print (k, '-->', v*100, \"%\")"
      ],
      "execution_count": null,
      "outputs": [
        {
          "output_type": "stream",
          "name": "stdout",
          "text": [
            "Linear Regression --> 85.01175015108944 %\n",
            "Decision Tree --> 73.53063216130965 %\n",
            "Random Forest --> 76.13206037050348 %\n",
            "KNN --> 73.84774949486143 %\n"
          ]
        }
      ]
    },
    {
      "cell_type": "code",
      "metadata": {
        "colab": {
          "base_uri": "https://localhost:8080/",
          "height": 498
        },
        "id": "8FKEww6QUAFK",
        "outputId": "17b6330d-209f-4f0d-c3ee-7cb10c918e63"
      },
      "source": [
        "plt.figure(figsize=[10,5],dpi = 100)\n",
        "plt.title('Accuracy Comparison')\n",
        "plt.xlabel('Accuracy')\n",
        "plt.ylabel('Algorithm')\n",
        "sns.barplot(x = acc,y = model,palette='Blues')\n"
      ],
      "execution_count": null,
      "outputs": [
        {
          "output_type": "execute_result",
          "data": {
            "text/plain": [
              "<matplotlib.axes._subplots.AxesSubplot at 0x7f38af2e1510>"
            ]
          },
          "metadata": {},
          "execution_count": 90
        },
        {
          "output_type": "display_data",
          "data": {
            "image/png": "[encoded data removed]",
            "text/plain": [
              "<Figure size 1000x500 with 1 Axes>"
            ]
          },
          "metadata": {
            "needs_background": "light"
          }
        }
      ]
    },
    {
      "cell_type": "code",
      "metadata": {
        "colab": {
          "base_uri": "https://localhost:8080/"
        },
        "id": "ZhZWDZCuqXGN",
        "outputId": "f7126136-7732-4005-bbc1-509077481827"
      },
      "source": [
        "error_models = dict(zip(model, err))\n",
        "for k, v in error_models.items():\n",
        "    print (k, '-->', v)"
      ],
      "execution_count": null,
      "outputs": [
        {
          "output_type": "stream",
          "name": "stdout",
          "text": [
            "Linear Regression --> 6862864.418959247\n",
            "Decision Tree --> 11891572.637518585\n",
            "Random Forest --> 8088836.187746989\n",
            "KNN --> 11974670.243468769\n"
          ]
        }
      ]
    },
    {
      "cell_type": "code",
      "metadata": {
        "colab": {
          "base_uri": "https://localhost:8080/",
          "height": 498
        },
        "id": "4yZ38AJzp2k6",
        "outputId": "dcc2c06f-5562-4122-db5e-929e947dfd42"
      },
      "source": [
        "plt.figure(figsize=[10,5],dpi = 100)\n",
        "plt.title('Error Comparison')\n",
        "plt.xlabel('Error')\n",
        "plt.ylabel('Algorithm')\n",
        "sns.barplot(x = err,y = model,palette='Reds')"
      ],
      "execution_count": null,
      "outputs": [
        {
          "output_type": "execute_result",
          "data": {
            "text/plain": [
              "<matplotlib.axes._subplots.AxesSubplot at 0x7f38af2b3d10>"
            ]
          },
          "metadata": {},
          "execution_count": 92
        },
        {
          "output_type": "display_data",
          "data": {
            "image/png": "[encoded data removed]",
            "text/plain": [
              "<Figure size 1000x500 with 1 Axes>"
            ]
          },
          "metadata": {
            "needs_background": "light"
          }
        }
      ]
    }
  ]
}